{
 "cells": [
  {
   "cell_type": "code",
   "execution_count": 1,
   "metadata": {},
   "outputs": [],
   "source": [
    "import numpy as np\n",
    "import matplotlib\n",
    "#display in cell 4 is missing because of this. I had to use this to stop plots from rendering in notebook later\n",
    "#it made the size huge\n",
    "matplotlib.use('Agg')\n",
    "import matplotlib.pyplot as plt"
   ]
  },
  {
   "cell_type": "code",
   "execution_count": 2,
   "metadata": {},
   "outputs": [],
   "source": [
    "N = 200       # Grid will be N x N\n",
    "R = np.linspace(0, 1, 9)\n",
    "similarity = 1 - R  # Similarity threshold 1-R\n",
    "EMPTY = 0.001  # Fraction of vacant cells\n",
    "X_to_O = 1   # Ratio of blue to red people"
   ]
  },
  {
   "cell_type": "code",
   "execution_count": 3,
   "metadata": {},
   "outputs": [],
   "source": [
    "def rand_init(N, X_to_O, EMPTY):\n",
    "    \"\"\" Random system initialisation.\n",
    "    X  =  0\n",
    "    O   =  1\n",
    "    EMPTY = -1\n",
    "    \"\"\"\n",
    "    vacant = int(N * N * EMPTY)\n",
    "    population = N * N - vacant\n",
    "    x = int(population * 1 / (1 + 1/X_to_O))\n",
    "    o = population - x\n",
    "    M = np.zeros(N*N, dtype=np.int8)\n",
    "    M[:o] = 1\n",
    "    M[-vacant:] = -1\n",
    "    np.random.shuffle(M)\n",
    "    return M.reshape(N,N)"
   ]
  },
  {
   "cell_type": "code",
   "execution_count": 4,
   "metadata": {},
   "outputs": [
    {
     "name": "stderr",
     "output_type": "stream",
     "text": [
      "/snap/jupyter/6/lib/python3.7/site-packages/ipykernel_launcher.py:7: UserWarning: Matplotlib is currently using agg, which is a non-GUI backend, so cannot show the figure.\n",
      "  import sys\n"
     ]
    }
   ],
   "source": [
    "fig, ax = plt.subplots(figsize=(10, 6))\n",
    "\n",
    "plt.imshow(rand_init(N, X_to_O, EMPTY), cmap = plt.cm.gnuplot2)\n",
    "\n",
    "plt.axis('off')\n",
    "\n",
    "plt.show()"
   ]
  },
  {
   "cell_type": "code",
   "execution_count": 5,
   "metadata": {},
   "outputs": [],
   "source": [
    "KERNEL = np.array([[1, 1, 1],\n",
    "                   [1, 0, 1],\n",
    "                   [1, 1, 1]], dtype=np.int8)"
   ]
  },
  {
   "cell_type": "code",
   "execution_count": 6,
   "metadata": {},
   "outputs": [],
   "source": [
    "from scipy.signal import convolve2d\n",
    "\n",
    "def evolve(M, boundary='wrap', SIM_T = 0.4):\n",
    "    \"\"\"\n",
    "    Args:\n",
    "        M (numpy.array): the matrix to be evolved\n",
    "        boundary (str): Either wrap, fill, or symm\n",
    "    If the similarity ratio of neighbours\n",
    "    to the entire neighborhood population\n",
    "    is lower than the SIM_T,\n",
    "    then the individual moves to an empty house.\n",
    "    \"\"\"\n",
    "    kws = dict(mode='same', boundary=boundary)\n",
    "    b_neighs = convolve2d(M == 0, KERNEL, **kws)\n",
    "    r_neighs = convolve2d(M == 1, KERNEL, **kws)\n",
    "    neighs   = convolve2d(M != -1,  KERNEL, **kws)\n",
    "\n",
    "    b_dissatisfied = (b_neighs / neighs < SIM_T) & (M == 0)\n",
    "    r_dissatisfied = (r_neighs / neighs < SIM_T) & (M == 1)\n",
    "    M[r_dissatisfied | b_dissatisfied] = - 1\n",
    "    vacant = (M == -1).sum()\n",
    "\n",
    "    n_b_dissatisfied, n_r_dissatisfied = b_dissatisfied.sum(), r_dissatisfied.sum()\n",
    "    filling = -np.ones(vacant, dtype=np.int8)\n",
    "    filling[:n_b_dissatisfied] = 0\n",
    "    filling[n_b_dissatisfied:n_b_dissatisfied + n_r_dissatisfied] = 1\n",
    "    np.random.shuffle(filling)\n",
    "    M[M==-1] = filling\n",
    "    \n",
    "    dissatisfied_households = n_b_dissatisfied + n_r_dissatisfied\n",
    "    \n",
    "    return M, dissatisfied_households"
   ]
  },
  {
   "cell_type": "code",
   "execution_count": 7,
   "metadata": {},
   "outputs": [
    {
     "name": "stdout",
     "output_type": "stream",
     "text": [
      "(200, 200)\n",
      "14520\n"
     ]
    }
   ],
   "source": [
    "M = rand_init(N, X_to_O, EMPTY)\n",
    "evolved_M, d_h = evolve(M)\n",
    "print(np.shape(evolved_M))\n",
    "print(d_h)"
   ]
  },
  {
   "cell_type": "code",
   "execution_count": 8,
   "metadata": {},
   "outputs": [],
   "source": [
    "from tqdm import tqdm\n",
    "import imageio"
   ]
  },
  {
   "cell_type": "code",
   "execution_count": 9,
   "metadata": {},
   "outputs": [],
   "source": [
    "n_diss_households = [[]]"
   ]
  },
  {
   "cell_type": "markdown",
   "metadata": {},
   "source": [
    "1. Create 9 gifs of map evolution for 9 values of R (5 points)"
   ]
  },
  {
   "cell_type": "code",
   "execution_count": 10,
   "metadata": {},
   "outputs": [
    {
     "name": "stderr",
     "output_type": "stream",
     "text": [
      "  0%|          | 0/9 [00:00<?, ?it/s]/snap/jupyter/6/lib/python3.7/site-packages/ipykernel_launcher.py:12: RuntimeWarning: More than 20 figures have been opened. Figures created through the pyplot interface (`matplotlib.pyplot.figure`) are retained until explicitly closed and may consume too much memory. (To control this warning, see the rcParam `figure.max_open_warning`).\n",
      "  if sys.path[0] == '':\n",
      "/snap/jupyter/6/lib/python3.7/site-packages/ipykernel_launcher.py:24: DeprecationWarning: Starting with ImageIO v3 the behavior of this function will switch to that of iio.v3.imread. To keep the current behavior (and make this warning disappear) use `import imageio.v2 as imageio` or call `imageio.v2.imread` directly.\n",
      "100%|██████████| 9/9 [10:50<00:00, 72.23s/it]\n"
     ]
    }
   ],
   "source": [
    "for sim in tqdm(similarity):\n",
    "    \n",
    "    r = 1 - sim\n",
    "    M = rand_init(N, X_to_O, EMPTY)\n",
    "    plt_names = []\n",
    "    diss_households = []\n",
    "\n",
    "    for i in range(100):\n",
    "        M, dis_h = evolve(M, SIM_T = sim)\n",
    "        diss_households.append(dis_h)\n",
    "\n",
    "        fig, ax = plt.subplots(figsize=(10, 6))\n",
    "        plt.ioff()\n",
    "        plt.imshow(M, cmap = plt.cm.gnuplot2)\n",
    "        plt.axis('off')\n",
    "\n",
    "        plt.savefig(f'/home/prateek/sk_courses/hppl/schelling_model/{i}.png', dpi = 200)\n",
    "        plt_names.append(f'{i}.png')\n",
    "        \n",
    "    n_diss_households.append(diss_households)\n",
    "    \n",
    "    images = []\n",
    "    for i in plt_names:\n",
    "        images.append(imageio.imread(f'/home/prateek/sk_courses/hppl/schelling_model/{i}'))\n",
    "    imageio.mimsave(f'/home/prateek/sk_courses/hppl/schelling_model/r_{r}.gif', images)\n",
    "    "
   ]
  },
  {
   "cell_type": "markdown",
   "metadata": {},
   "source": [
    "2. Plot the number of households that want to move versus time for 9 values of R on one graph, label 9 curves, label the axes and title the graph. (2 points)"
   ]
  },
  {
   "cell_type": "code",
   "execution_count": 12,
   "metadata": {},
   "outputs": [],
   "source": [
    "fig, ax = plt.subplots(figsize=(14, 14))\n",
    "\n",
    "ax.set_xlabel('time')\n",
    "ax.set_ylabel('n_angry_agents')\n",
    "ax.set_title('number of angry agents with time')\n",
    "\n",
    "\n",
    "for d_h, r in zip(n_diss_households, R.tolist()):\n",
    "        \n",
    "    ax.plot(d_h, '-o', label=f'R={r}')\n",
    "    \n",
    "ax.legend()\n",
    "plt.savefig(f'/home/prateek/sk_courses/hppl/schelling_model/angry_agents_with_time', dpi = 200)"
   ]
  },
  {
   "cell_type": "code",
   "execution_count": null,
   "metadata": {},
   "outputs": [],
   "source": []
  }
 ],
 "metadata": {
  "kernelspec": {
   "display_name": "Python 3",
   "language": "python",
   "name": "python3"
  },
  "language_info": {
   "codemirror_mode": {
    "name": "ipython",
    "version": 3
   },
   "file_extension": ".py",
   "mimetype": "text/x-python",
   "name": "python",
   "nbconvert_exporter": "python",
   "pygments_lexer": "ipython3",
   "version": "3.7.3"
  }
 },
 "nbformat": 4,
 "nbformat_minor": 2
}
