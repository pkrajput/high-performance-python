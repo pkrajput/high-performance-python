{
 "cells": [
  {
   "cell_type": "markdown",
   "metadata": {},
   "source": [
    "Integral in consideration"
   ]
  },
  {
   "cell_type": "markdown",
   "metadata": {},
   "source": [
    "* <big> $ y = \\displaystyle \\int_a^b  \\displaystyle \\frac{1}{\\sqrt{1 + x^2}} \\, dx$ </big>, where $a = 3$ and $b = 4$"
   ]
  },
  {
   "cell_type": "markdown",
   "metadata": {},
   "source": [
    "### 1. Computer value analytically"
   ]
  },
  {
   "cell_type": "code",
   "execution_count": 3,
   "metadata": {},
   "outputs": [],
   "source": [
    "import numpy as np"
   ]
  },
  {
   "cell_type": "code",
   "execution_count": 5,
   "metadata": {},
   "outputs": [
    {
     "name": "stdout",
     "output_type": "stream",
     "text": [
      "Integral Value: 0.2762660880290344\n"
     ]
    }
   ],
   "source": [
    "def integral(a,b):\n",
    "    return np.log(b + np.sqrt(b**2 + 1**2)) - np.log(a + np.sqrt(a**2 + 1**2))\n",
    "\n",
    "print('Integral Value:', integral(a = 3,b = 4))"
   ]
  },
  {
   "cell_type": "markdown",
   "metadata": {},
   "source": [
    "### 2. Compute integral value using trapezoidal rule"
   ]
  },
  {
   "cell_type": "code",
   "execution_count": 7,
   "metadata": {},
   "outputs": [
    {
     "name": "stdout",
     "output_type": "stream",
     "text": [
      "Integral Value: 0.27626608806053443\n"
     ]
    }
   ],
   "source": [
    "def trapezoidal(function, a, b, n):\n",
    "    \n",
    "    h = (b-a)/float(n)\n",
    "    s = 0.5*(function(a) + function(b))\n",
    "    \n",
    "    for i in range(1,n,1):\n",
    "        s = s + function(a + i*h)\n",
    "    \n",
    "    value = h*s\n",
    "    \n",
    "    return value\n",
    "\n",
    "def function(x):\n",
    "    return 1/(np.sqrt(1 + x**2))\n",
    "\n",
    "print('Integral Value:', trapezoidal(function, a = 3, b = 4, n = 10000))"
   ]
  },
  {
   "cell_type": "code",
   "execution_count": null,
   "metadata": {},
   "outputs": [],
   "source": [
    "from mpi4py import MPI\n",
    "import numpy as np\n",
    "\n",
    "comm = MPI.COMM_WORLD\n",
    "rank = comm.Get_rank()\n",
    "size = comm.Get_size()\n",
    "\n",
    "\n",
    "def trapezoidal(function, a, b, n, h):\n",
    "\n",
    "    s = 0.5*(function(a) + function(b))\n",
    "    \n",
    "    for i in range(1,n,1):\n",
    "        s = s + function(a + i*h)\n",
    "    \n",
    "    value = h*s\n",
    "    \n",
    "    return value\n",
    "\n",
    "def function(x):\n",
    "    return 1/(np.sqrt(1 + x**2))\n",
    "\n",
    "def Get_data(rank, size, comm):\n",
    "    a=None\n",
    "    b=None\n",
    "    n=None\n",
    "    if rank == 0:\n",
    "        a = 5\n",
    "        b = 7\n",
    "        n = 10000\n",
    "        \n",
    "    a=comm.bcast(a)\n",
    "    b=comm.bcast(b)\n",
    "    n=comm.bcast(n)\n",
    "    return a,b,n\n",
    "\n",
    "a,b,n = Get_data(rank, size, comm)\n",
    "\n",
    "h = (b-a)/n # step size for trapezoidal rule is common for all processes\n",
    "\n",
    "mpi_n = int(n/size) # number of trapezoids/size is also same variable for all calls \n",
    "\n",
    "\n",
    "mpi_a = a + rank*mpi_n*h\n",
    "mpi_b = mpi_a + mpi_n*h\n",
    "integral = trapezoidal(function, mpi_a, mpi_b, mpi_n, h)\n",
    "\n",
    "total=comm.reduce(integral)\n",
    "\n",
    "if (rank == 0):\n",
    "    print(f'for n = {n} trapezoids the integral from {a} to {b} for our defined function = {total}')\n",
    "    \n",
    "MPI.Finalize"
   ]
  }
 ],
 "metadata": {
  "kernelspec": {
   "display_name": "Python 3",
   "language": "python",
   "name": "python3"
  },
  "language_info": {
   "codemirror_mode": {
    "name": "ipython",
    "version": 3
   },
   "file_extension": ".py",
   "mimetype": "text/x-python",
   "name": "python",
   "nbconvert_exporter": "python",
   "pygments_lexer": "ipython3",
   "version": "3.7.3"
  }
 },
 "nbformat": 4,
 "nbformat_minor": 2
}
