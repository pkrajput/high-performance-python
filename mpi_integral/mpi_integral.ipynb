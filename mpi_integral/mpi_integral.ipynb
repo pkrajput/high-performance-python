{
 "cells": [
  {
   "cell_type": "markdown",
   "metadata": {
    "id": "4QYACTuniEil"
   },
   "source": [
    "Integral in consideration"
   ]
  },
  {
   "cell_type": "markdown",
   "metadata": {
    "id": "DH7QxulkiEiq"
   },
   "source": [
    "* <big> $ y = \\displaystyle \\int_a^b  \\displaystyle \\frac{1}{\\sqrt{1 + x^2}} \\, dx$ </big>, where $a = 3$ and $b = 4$"
   ]
  },
  {
   "cell_type": "markdown",
   "metadata": {
    "id": "8caiMiK4iEis"
   },
   "source": [
    "### 1. Computer value analytically"
   ]
  },
  {
   "cell_type": "code",
   "execution_count": 18,
   "metadata": {
    "id": "syaoUfstiEiu"
   },
   "outputs": [],
   "source": [
    "import numpy as np\n",
    "from time import time\n",
    "import matplotlib.pyplot as plt"
   ]
  },
  {
   "cell_type": "code",
   "execution_count": 2,
   "metadata": {
    "colab": {
     "base_uri": "https://localhost:8080/"
    },
    "id": "-NQ0PgCHiEiw",
    "outputId": "06e73e72-769c-4a03-ee3f-9e6109f49fda"
   },
   "outputs": [
    {
     "name": "stdout",
     "output_type": "stream",
     "text": [
      "Integral Value: 0.2762660880290344\n"
     ]
    }
   ],
   "source": [
    "def integral(a,b):\n",
    "    return np.log(b + np.sqrt(b**2 + 1**2)) - np.log(a + np.sqrt(a**2 + 1**2))\n",
    "\n",
    "print('Integral Value:', integral(a = 3,b = 4))"
   ]
  },
  {
   "cell_type": "markdown",
   "metadata": {
    "id": "GEipU5GOiEix"
   },
   "source": [
    "### 2. Compute integral value using trapezoidal rule"
   ]
  },
  {
   "cell_type": "code",
   "execution_count": 3,
   "metadata": {
    "colab": {
     "base_uri": "https://localhost:8080/"
    },
    "id": "c9tCP-OPiEiz",
    "outputId": "f36efdd3-926d-48da-84b3-f10811e34f91"
   },
   "outputs": [
    {
     "name": "stdout",
     "output_type": "stream",
     "text": [
      "Integral Value: 0.27626608806053443\n"
     ]
    }
   ],
   "source": [
    "def trapezoidal(function, a, b, n):\n",
    "    \n",
    "    h = (b-a)/float(n)\n",
    "    s = 0.5*(function(a) + function(b))\n",
    "    \n",
    "    for i in range(1,n,1):\n",
    "        s = s + function(a + i*h)\n",
    "    \n",
    "    value = h*s\n",
    "    \n",
    "    return value\n",
    "\n",
    "def function(x):\n",
    "    return 1/(np.sqrt(1 + x**2))\n",
    "\n",
    "print('Integral Value:', trapezoidal(function, a = 3, b = 4, n = 10000))"
   ]
  },
  {
   "cell_type": "code",
   "execution_count": 4,
   "metadata": {
    "colab": {
     "base_uri": "https://localhost:8080/"
    },
    "id": "ceYAX7M6iNp3",
    "outputId": "2e497bee-cf66-4e5d-f557-3dbe2265a100"
   },
   "outputs": [
    {
     "name": "stdout",
     "output_type": "stream",
     "text": [
      "Looking in indexes: https://pypi.org/simple, https://us-python.pkg.dev/colab-wheels/public/simple/\n",
      "Collecting mpi4py\n",
      "  Downloading mpi4py-3.1.4.tar.gz (2.5 MB)\n",
      "\u001b[K     |████████████████████████████████| 2.5 MB 5.1 MB/s \n",
      "\u001b[?25h  Installing build dependencies ... \u001b[?25l\u001b[?25hdone\n",
      "  Getting requirements to build wheel ... \u001b[?25l\u001b[?25hdone\n",
      "    Preparing wheel metadata ... \u001b[?25l\u001b[?25hdone\n",
      "Building wheels for collected packages: mpi4py\n",
      "  Building wheel for mpi4py (PEP 517) ... \u001b[?25l\u001b[?25hdone\n",
      "  Created wheel for mpi4py: filename=mpi4py-3.1.4-cp38-cp38-linux_x86_64.whl size=4438381 sha256=1e7da1fdaaa3fa70274d7a2f4d03aaa5599f12a1a10c01e6d6e30a28f1ec1865\n",
      "  Stored in directory: /root/.cache/pip/wheels/f3/35/48/0b9a7076995eea5ea64a7e4bc3f0f342f453080795276264e7\n",
      "Successfully built mpi4py\n",
      "Installing collected packages: mpi4py\n",
      "Successfully installed mpi4py-3.1.4\n"
     ]
    }
   ],
   "source": [
    "!pip install mpi4py"
   ]
  },
  {
   "cell_type": "markdown",
   "metadata": {
    "id": "IQ1MAhMdjlXQ"
   },
   "source": [
    "### 3. Parallelize using MPI. You should be able to choose any number of MPI processes regardless of the number of discretization points"
   ]
  },
  {
   "cell_type": "code",
   "execution_count": 10,
   "metadata": {
    "colab": {
     "base_uri": "https://localhost:8080/"
    },
    "id": "B45QUXOhiEi0",
    "outputId": "69ec35c5-08f0-4279-bbed-5c456ed508ed"
   },
   "outputs": [
    {
     "name": "stdout",
     "output_type": "stream",
     "text": [
      "Overwriting mpi_trapizoidal_integral.py\n"
     ]
    }
   ],
   "source": [
    "%%writefile mpi_trapizoidal_integral.py\n",
    "\n",
    "from mpi4py import MPI\n",
    "import numpy as np\n",
    "\n",
    "comm = MPI.COMM_WORLD\n",
    "rank = comm.Get_rank()\n",
    "size = comm.Get_size()\n",
    "\n",
    "\n",
    "def trapezoidal(function, a, b, n, h):\n",
    "\n",
    "    s = 0.5*(function(a) + function(b))\n",
    "    \n",
    "    for i in range(1,n,1):\n",
    "        s = s + function(a + i*h)\n",
    "    \n",
    "    value = h*s\n",
    "    \n",
    "    return value\n",
    "\n",
    "def function(x):\n",
    "    return 1/(np.sqrt(1 + x**2))\n",
    "\n",
    "def Get_data(rank, size, comm):\n",
    "    a=None\n",
    "    b=None\n",
    "    n=None\n",
    "    if rank == 0:\n",
    "        a = 3\n",
    "        b = 4\n",
    "        n = 10000\n",
    "        \n",
    "    a=comm.bcast(a)\n",
    "    b=comm.bcast(b)\n",
    "    n=comm.bcast(n)\n",
    "    return a,b,n\n",
    "\n",
    "a,b,n = Get_data(rank, size, comm)\n",
    "\n",
    "h = (b-a)/n # step size for trapezoidal rule is common for all processes\n",
    "\n",
    "mpi_n = int(n/size) # number of trapezoids/size is also same variable for all calls \n",
    "\n",
    "\n",
    "mpi_a = a + rank*mpi_n*h\n",
    "mpi_b = mpi_a + mpi_n*h\n",
    "integral = trapezoidal(function, mpi_a, mpi_b, mpi_n, h)\n",
    "\n",
    "total=comm.reduce(integral)\n",
    "\n",
    "if (rank == 0):\n",
    "    print(f'for n = {n} trapezoids the integral from {a} to {b} for our defined function = {total}')\n",
    "    \n",
    "MPI.Finalize"
   ]
  },
  {
   "cell_type": "code",
   "execution_count": 12,
   "metadata": {
    "colab": {
     "base_uri": "https://localhost:8080/"
    },
    "id": "4j6JLxqRih4X",
    "outputId": "0270d1de-2a83-4b70-8b46-0b17cbc3efc3"
   },
   "outputs": [
    {
     "name": "stdout",
     "output_type": "stream",
     "text": [
      "for n = 10000 trapezoids the integral from 3 to 4 for our defined function = 0.2762660880605352\n",
      "time: 0.7303202152252197 seconds\n"
     ]
    }
   ],
   "source": [
    "t = time()\n",
    "!mpirun --allow-run-as-root -n 2 python mpi_trapizoidal_integral.py\n",
    "print('time:', time()-t, 'seconds')"
   ]
  },
  {
   "cell_type": "markdown",
   "metadata": {
    "id": "olrExF6xjvlg"
   },
   "source": [
    "### 4. Plot the speedup vs number of processors"
   ]
  },
  {
   "cell_type": "code",
   "execution_count": 22,
   "metadata": {
    "colab": {
     "base_uri": "https://localhost:8080/"
    },
    "id": "a0o_qJrSinMS",
    "outputId": "781fef94-3e92-4f15-ef5a-c1bab2258f9d"
   },
   "outputs": [
    {
     "name": "stdout",
     "output_type": "stream",
     "text": [
      "for n = 10000 trapezoids the integral from 3 to 4 for our defined function = 0.27626608806053443\n",
      "running time per process with : 1: is 0.5212469100952148\n",
      "for n = 10000 trapezoids the integral from 3 to 4 for our defined function = 0.2762660880605352\n",
      "running time per process with : 2: is 0.3623732328414917\n",
      "for n = 10000 trapezoids the integral from 3 to 4 for our defined function = 0.27624183421268933\n",
      "running time per process with : 3: is 0.34167106946309406\n",
      "for n = 10000 trapezoids the integral from 3 to 4 for our defined function = 0.2762660880605354\n",
      "running time per process with : 4: is 0.3074508309364319\n",
      "for n = 10000 trapezoids the integral from 3 to 4 for our defined function = 0.2762660880605353\n",
      "running time per process with : 5: is 0.30640416145324706\n",
      "for n = 10000 trapezoids the integral from 3 to 4 for our defined function = 0.2761690692448581\n",
      "running time per process with : 6: is 0.2726982831954956\n",
      "for n = 10000 trapezoids the integral from 3 to 4 for our defined function = 0.2761690692448582\n",
      "running time per process with : 7: is 0.2754039764404297\n",
      "for n = 10000 trapezoids the integral from 3 to 4 for our defined function = 0.2762660880605356\n",
      "running time per process with : 8: is 0.29244929552078247\n",
      "for n = 10000 trapezoids the integral from 3 to 4 for our defined function = 0.2762418342126892\n",
      "running time per process with : 9: is 0.46546053886413574\n"
     ]
    }
   ],
   "source": [
    "times = []\n",
    "for i in range(1,10):\n",
    "    t = time()\n",
    "    !mpiexec --allow-run-as-root -n {i} python mpi_trapizoidal_integral.py\n",
    "    times.append((time()-t)/i)\n",
    "    print(f'running time per process with : {i}: is {times[-1]}')"
   ]
  },
  {
   "cell_type": "code",
   "execution_count": 24,
   "metadata": {
    "colab": {
     "base_uri": "https://localhost:8080/",
     "height": 295
    },
    "id": "i6A7m2iekQw3",
    "outputId": "0c977f27-ea50-4bc3-8b5b-34b8441ae05c"
   },
   "outputs": [
    {
     "data": {
      "image/png": "[encoded data removed]",
      "text/plain": [
       "<Figure size 432x288 with 1 Axes>"
      ]
     },
     "metadata": {
      "needs_background": "light"
     },
     "output_type": "display_data"
    }
   ],
   "source": [
    "plt.subplot()\n",
    "plt.plot(range(1,10), [1/i*10 for i in times],'o-')\n",
    "plt.title('Speedup versus number of processors')\n",
    "plt.xlabel('Number of processes')\n",
    "plt.ylabel('Speedup')\n",
    "plt.grid()\n",
    "\n",
    "plt.show()"
   ]
  },
  {
   "cell_type": "markdown",
   "metadata": {
    "id": "aYgL5s5noPzZ"
   },
   "source": [
    "### 5. Plot integration error vs the discretization size"
   ]
  },
  {
   "cell_type": "code",
   "execution_count": 34,
   "metadata": {
    "colab": {
     "base_uri": "https://localhost:8080/",
     "height": 312
    },
    "id": "ZyXdGsDxnOfX",
    "outputId": "765a9778-772a-462a-ad8f-c4db962ad74b"
   },
   "outputs": [
    {
     "data": {
      "text/plain": [
       "Text(0.5, 0, 'n')"
      ]
     },
     "execution_count": 34,
     "metadata": {},
     "output_type": "execute_result"
    },
    {
     "data": {
      "image/png": "[encoded data removed]",
      "text/plain": [
       "<Figure size 432x288 with 1 Axes>"
      ]
     },
     "metadata": {
      "needs_background": "light"
     },
     "output_type": "display_data"
    }
   ],
   "source": [
    "errors = []\n",
    "for i in np.linspace(10000, 100000, 9):\n",
    "    errors.append(trapezoidal(function, 3, 4, int(i)) - integral(3, 4))\n",
    "plt.yscale('log')    \n",
    "plt.plot(range(1,10), errors,'o-')\n",
    "plt.grid()\n",
    "plt.title('Errors between analytic calculation and trapezoidal approximation ')\n",
    "plt.xlabel('n')"
   ]
  },
  {
   "cell_type": "markdown",
   "metadata": {
    "id": "nszhILHFpnrO"
   },
   "source": [
    "error decreases with discritization size as expected because we're taking closer points to estimate the integral"
   ]
  },
  {
   "cell_type": "code",
   "execution_count": null,
   "metadata": {
    "id": "vwSEfeA9pwVy"
   },
   "outputs": [],
   "source": []
  }
 ],
 "metadata": {
  "colab": {
   "provenance": []
  },
  "kernelspec": {
   "display_name": "Python 3 (ipykernel)",
   "language": "python",
   "name": "python3"
  },
  "language_info": {
   "codemirror_mode": {
    "name": "ipython",
    "version": 3
   },
   "file_extension": ".py",
   "mimetype": "text/x-python",
   "name": "python",
   "nbconvert_exporter": "python",
   "pygments_lexer": "ipython3",
   "version": "3.8.10"
  }
 },
 "nbformat": 4,
 "nbformat_minor": 1
}
