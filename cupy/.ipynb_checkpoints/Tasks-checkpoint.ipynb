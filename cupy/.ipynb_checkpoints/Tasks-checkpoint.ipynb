{
 "cells": [
  {
   "cell_type": "code",
   "execution_count": null,
   "metadata": {},
   "outputs": [],
   "source": [
    "# !pip install cupy-cuda100 -user"
   ]
  },
  {
   "cell_type": "code",
   "execution_count": 5,
   "metadata": {},
   "outputs": [],
   "source": [
    "import cupy as cp"
   ]
  },
  {
   "cell_type": "markdown",
   "metadata": {},
   "source": [
    "## [High performance with <u><i><strong>CUDA</strong></i></u>](https://cupy.chainer.org/)\n",
    "<u><i><strong>CuPy</strong></i></u> is an open-source matrix library accelerated with <u><i><strong>NVIDIA CUDA</strong></i></u>. <u><i><strong>CuPy</strong></i></u> provides GPU accelerated computing with Python. CuPy uses CUDA-related libraries including <u><i><strong>cuBLAS</strong></i></u>, <u><i><strong>cuDNN</strong></i></u>, <u><i><strong>cuRand</strong></i></u>, <u><i><strong>cuSolver</strong></i></u>, <u><i><strong>cuSPARSE</strong></i></u>, <u><i><strong>cuFFT</strong></i></u> and <u><i><strong>NCCL</strong></i></u> to make full use of the <u><i><strong>GPU</strong></i></u> architecture.\n",
    "The figure shows <u><i><strong>CuPy</strong></i></u> speedup over NumPy. Most of them perform well on a <u><i><strong>GPU</strong></i></u> using CuPy out of the box. <u><i><strong>CuPy</strong></i></u> speeds up some operations more than 100X. You can read original benchmark article in [Single-<u><i><strong>GPU</strong></i></u> <u><i><strong>CuPy</strong></i></u> Speedups (RAPIDS AI)](https://medium.com/rapids-ai/single-gpu-cupy-speedups-ea99cbbb0cbb).\n",
    "\n",
    "![CuPy speedup over NumPy](CuPy_Performance.png)"
   ]
  },
  {
   "cell_type": "markdown",
   "metadata": {},
   "source": [
    "## [Highly compatible with <u><i><strong>NumPy</strong></i></u>](https://cupy.chainer.org/)\n",
    "<u><i><strong>CuPy</strong></i></u>'s interface is highly compatible with <u><i><strong>NumPy</strong></i></u>; in most cases it can be used as a <strong><i><u>drop-in replacement</u></i></strong>. <i><u>All you need to do</u></i> is just <strong><i><u>replace numpy with cupy</u></i></strong> in your Python code. [Basics of <u><i><strong>CuPy</strong></i></u> (Tutorial)](https://docs-cupy.chainer.org/en/stable/tutorial/basic.html) is usefull to learn first step of <u><i><strong>CuPy</strong></i></u>.\n",
    "<u><i><strong>CuPy</strong></i></u> supports various methods, indexing, data types, broadcasting and more. [Comparison Table (Reference Manual)](https://docs-cupy.chainer.org/en/stable/reference/comparison.html) shows a list of NumPy / <u><i><strong>SciPy</strong></i></u> APIs and its corresponding <u><i><strong>CuPy</strong></i></u> implementations."
   ]
  },
  {
   "cell_type": "code",
   "execution_count": 6,
   "metadata": {},
   "outputs": [
    {
     "name": "stdout",
     "output_type": "stream",
     "text": [
      "x =\n",
      " [[0. 1. 2.]\n",
      " [3. 4. 5.]]\n",
      "\n",
      "sum =  [ 3. 12.]\n"
     ]
    }
   ],
   "source": [
    "x = cp.arange(6).reshape(2, 3).astype('f')\n",
    "print(\"x =\\n\", x)\n",
    "\n",
    "sum_result = x.sum(axis=1)\n",
    "print(\"\\nsum = \",sum_result)"
   ]
  },
  {
   "cell_type": "markdown",
   "metadata": {},
   "source": [
    "## [Easy to write a custom kernel](https://cupy.chainer.org/)\n",
    "You can easily make a custom <u><i><strong>CUDA</strong></i></u> kernel if you want to make your code run faster, requiring only a small code snippet of <u><i><strong>C++</strong></i></u>. <u><i><strong>CuPy</strong></i></u> automatically wraps and compiles it to make a <u><i><strong>CUDA</strong></i></u> binary. Compiled binaries are cached and reused in subsequent runs. Please read [User-Defined Kernels (Tutorial)](https://docs-cupy.chainer.org/en/latest/tutorial/kernel.html).\n",
    "And, you can also use raw <u><i><strong>CUDA</strong></i></u> kernel via [Raw modules (Tutorial)](https://docs-cupy.chainer.org/en/latest/tutorial/kernel.html#raw-modules).\n"
   ]
  },
  {
   "cell_type": "code",
   "execution_count": 7,
   "metadata": {},
   "outputs": [
    {
     "name": "stdout",
     "output_type": "stream",
     "text": [
      "Input x = \n",
      " [[0. 1. 2.]\n",
      " [3. 4. 5.]]\n",
      "\n",
      "Input y = \n",
      " [0. 1. 2.]\n",
      "\n",
      "result of the kernel =\n",
      " [[ 0.  2.  4.]\n",
      " [ 0.  4. 10.]]\n"
     ]
    }
   ],
   "source": [
    "x=cp.arange(6, dtype='f').reshape(2, 3)\n",
    "y=cp.arange(3, dtype='f')\n",
    "kernel=cp.ElementwiseKernel(\n",
    "    'float32 x,float32 y','float32 z',\n",
    "        '''if(x-2>y){\n",
    "        z=x*y;\n",
    "        }else{\n",
    "        z=x+y;\n",
    "        }''',\n",
    "    'my_kernel')\n",
    "\n",
    "print(\"Input x = \\n\", x)\n",
    "print(\"\\nInput y = \\n\", y)\n",
    "\n",
    "result = kernel(x, y)\n",
    "\n",
    "print(\"\\nresult of the kernel =\\n\", result)"
   ]
  },
  {
   "cell_type": "markdown",
   "metadata": {},
   "source": [
    "## Task 10. Saxpy\n",
    "\n",
    "By using <u><i><strong>CuPy</strong></i></u>, implement SAXPY function. The function is described in the picture.\n",
    "\n",
    "![saxpy](saxpy.jpg)"
   ]
  },
  {
   "cell_type": "markdown",
   "metadata": {},
   "source": [
    "## Task 11. CuPy-based Bifurcation map\n",
    "\n",
    "By using <u><i><strong>CuPy</strong></i></u>, reimplement bifurcation map (Task 1)."
   ]
  },
  {
   "cell_type": "markdown",
   "metadata": {},
   "source": [
    "## Task 12. Histogram\n",
    "\n",
    "\n",
    "<u>By using <i><strong>CuPy</strong></i>:</u>\n",
    "* Implement the suggested function:\n",
    "$$\n",
    " f(x) = (z^2(x) + z^3(x) - 200 \\,\\, z^4(x) )\\,\\,\\sin(\\,\\,100000\\,\\,(x + 0.5)\\,\\,),\n",
    " \\\\\n",
    " \\text{where    }\\:\\:\\: z(x) = \\sin(3\\,\\,x)-0.5\n",
    "$$\n",
    "* Plot function on the $x$ interval $[0,\\,\\, 1]$. Number of points = 10000000.\n",
    "* Get minimal and maximal values of function on the interval $[0,\\,\\, 1]$: $f_{min}$ and $f_{max}$.\n",
    "* Divide $y=f(x), \\: (x \\in [0,\\,\\, 1]) \\:$ interval $[f_{min}, f_{max}]$ into $10$ $y=f(x)$ subintervals of length $\\delta$ equal to $0.1 \\,\\, (f_{max}-f_{min})$: $[f_{min},\\,\\, f_{min} + \\delta],\\,\\, [f_{min}+ \\delta,\\,\\, f_{min} + 2 \\,\\, \\delta],\\,\\, \\dots,\\,\\, [f_{max}- \\delta,\\,\\, f_{max}]$.\n",
    "* Compute number of $y=f(x), \\: (x \\in [0,\\,\\, 1]) \\:$ values in each subinterval. Use $\\operatorname{cp.sum(\\dots)}$\n",
    "* Plot histogram. <strong>[Hint: how to represent the histogram](https://cdn.datamentor.io/wp-content/uploads/2017/11/r-histogram.png)</strong>\n",
    "\n",
    "<strong >Hint about function $f(x)$ appearance:</strong>\n",
    "    ![Hint](Hint.png)"
   ]
  },
  {
   "cell_type": "markdown",
   "metadata": {},
   "source": [
    "## Task 13. Image blur\n",
    "\n",
    "\n",
    "<u>By using <i><strong>CuPy</strong></i>:</u>\n",
    "* Implement the gpu version of the image blur algorithm. What you need to do is calculate convolution some image and some blur filter on every pixel. You should compute convolutions in parallel for every pixel using gpu cores.\n",
    "* Take any 100x100 image and \n",
    "\n",
    "<strong >Example of a blurred image:</strong>\n",
    "    ![Blur](blur.jpg)"
   ]
  },
  {
   "cell_type": "code",
   "execution_count": null,
   "metadata": {},
   "outputs": [],
   "source": []
  }
 ],
 "metadata": {
  "kernelspec": {
   "display_name": "Python 3",
   "language": "python",
   "name": "python3"
  },
  "language_info": {
   "codemirror_mode": {
    "name": "ipython",
    "version": 3
   },
   "file_extension": ".py",
   "mimetype": "text/x-python",
   "name": "python",
   "nbconvert_exporter": "python",
   "pygments_lexer": "ipython3",
   "version": "3.7.3"
  }
 },
 "nbformat": 4,
 "nbformat_minor": 2
}
