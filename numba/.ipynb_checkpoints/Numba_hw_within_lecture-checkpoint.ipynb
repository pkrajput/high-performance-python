{
 "cells": [
  {
   "cell_type": "markdown",
   "metadata": {
    "slideshow": {
     "slide_type": "slide"
    }
   },
   "source": [
    "High Performance Python\n",
    "=======\n",
    "\n",
    "Lecture 7. Numba\n",
    "----------\n",
    "\n",
    "Heavily based on (forked): \n",
    "\n",
    "Scipy2017 tutorial by Gil Forsyth:\n",
    "\n",
    "https://github.com/gforsyth/numba_tutorial_scipy2017\n",
    "\n",
    "https://www.youtube.com/watch?v=1AwG0T4gaO0&t=1349s\n",
    "\n",
    "GTC2018 tutorial by Stan Seibert:\n",
    "\n",
    "https://github.com/ContinuumIO/gtc2018-numba\n"
   ]
  },
  {
   "cell_type": "markdown",
   "metadata": {
    "slideshow": {
     "slide_type": "slide"
    }
   },
   "source": [
    "High Performance Python\n",
    "----------------------\n",
    "\n",
    "* multiprocessing\n",
    "* mpi4py\n",
    "* pycuda\n",
    "* cupy\n",
    "* pyopencl\n",
    "* **numba**"
   ]
  },
  {
   "cell_type": "markdown",
   "metadata": {
    "slideshow": {
     "slide_type": "slide"
    }
   },
   "source": [
    "Numba is:\n",
    "\n",
    "Just-In-Time (JIT) compiler:\n",
    "* generates optimized machine code using LLVM\n",
    "* integrates well with Scientific Python stack\n",
    "* **function compiler**: Numba compiles Python functions (not entire applications and not parts of functions). Numba is a Python module.\n",
    "* **type-specializing**: Numba speeds up your function by generating a specialized implementation for the specific data types you are using. \n",
    "* **just-in-time**: Numba translates functions when they are first called so that the compiler knows the argument types. Works in Jupyter notebook.\n",
    "* **numerically-focused**: „mostly“ int, float, complex. Works good with numpy arrays.\n"
   ]
  },
  {
   "cell_type": "markdown",
   "metadata": {
    "slideshow": {
     "slide_type": "slide"
    }
   },
   "source": [
    "The first step is always to find the bottlenecks in your code, via _profiling_: analyzing your code by measuring the execution time of its parts.\n",
    "\n",
    "\n",
    "Tools:\n",
    "------\n",
    "\n",
    "2. `cProfile`\n",
    "4. `snakeviz`\n",
    "1. [`line_profiler`](https://github.com/rkern/line_profiler)\n",
    "3. `timeit`\n",
    "\n",
    "\n",
    "\n",
    "```console\n",
    "pip install line_profiler\n",
    "```"
   ]
  },
  {
   "cell_type": "code",
   "execution_count": 26,
   "metadata": {},
   "outputs": [
    {
     "name": "stdout",
     "output_type": "stream",
     "text": [
      "Collecting numba\n",
      "  Downloading numba-0.56.4-cp38-cp38-manylinux2014_x86_64.manylinux_2_17_x86_64.whl (3.5 MB)\n",
      "\u001b[2K     \u001b[38;2;114;156;31m━━━━━━━━━━━━━━━━━━━━━━━━━━━━━━━━━━━━━━━━\u001b[0m \u001b[32m3.5/3.5 MB\u001b[0m \u001b[31m6.2 MB/s\u001b[0m eta \u001b[36m0:00:00\u001b[0mm eta \u001b[36m0:00:01\u001b[0m0:01\u001b[0m:01\u001b[0m\n",
      "\u001b[?25hRequirement already satisfied: numpy<1.24,>=1.18 in /home/prateek/sk_courses/env/lib/python3.8/site-packages (from numba) (1.23.5)\n",
      "Requirement already satisfied: setuptools in /home/prateek/sk_courses/env/lib/python3.8/site-packages (from numba) (65.6.3)\n",
      "Collecting llvmlite<0.40,>=0.39.0dev0\n",
      "  Downloading llvmlite-0.39.1-cp38-cp38-manylinux_2_17_x86_64.manylinux2014_x86_64.whl (34.6 MB)\n",
      "\u001b[2K     \u001b[38;2;114;156;31m━━━━━━━━━━━━━━━━━━━━━━━━━━━━━━━━━━━━━━━━\u001b[0m \u001b[32m34.6/34.6 MB\u001b[0m \u001b[31m6.0 MB/s\u001b[0m eta \u001b[36m0:00:00\u001b[0mm eta \u001b[36m0:00:01\u001b[0m[36m0:00:01\u001b[0m\n",
      "\u001b[?25hRequirement already satisfied: importlib-metadata in /home/prateek/sk_courses/env/lib/python3.8/site-packages (from numba) (5.1.0)\n",
      "Requirement already satisfied: zipp>=0.5 in /home/prateek/sk_courses/env/lib/python3.8/site-packages (from importlib-metadata->numba) (3.11.0)\n",
      "Installing collected packages: llvmlite, numba\n",
      "Successfully installed llvmlite-0.39.1 numba-0.56.4\n"
     ]
    }
   ],
   "source": [
    "!pip install numba"
   ]
  },
  {
   "cell_type": "code",
   "execution_count": 32,
   "metadata": {},
   "outputs": [],
   "source": [
    "# !pip install snakeviz"
   ]
  },
  {
   "cell_type": "code",
   "execution_count": 33,
   "metadata": {},
   "outputs": [],
   "source": [
    "import numba as nb\n",
    "\n",
    "import matplotlib.pyplot as plt\n",
    "from numba import jit, njit\n",
    "\n",
    "import snakeviz\n",
    "import line_profiler\n",
    "import cProfile"
   ]
  },
  {
   "cell_type": "code",
   "execution_count": 48,
   "metadata": {},
   "outputs": [],
   "source": [
    "import numpy\n",
    "from time import sleep\n",
    "\n",
    "def sleepy(time2sleep):\n",
    "    sleep(time2sleep)\n",
    "    \n",
    "def supersleepy(time2sleep):\n",
    "    sleep(time2sleep)\n",
    "    \n",
    "def randmatmul(n=1000):\n",
    "    a = numpy.random.random((n,n))\n",
    "    b = a @ a\n",
    "    return b\n",
    "    \n",
    "def useless(a):\n",
    "    if not isinstance(a, int):\n",
    "        return\n",
    "    \n",
    "    randmatmul(a)\n",
    "    \n",
    "    ans = 0\n",
    "    for i in range(a):\n",
    "        ans += i\n",
    "        \n",
    "    sleepy(1.0)\n",
    "    supersleepy(2.0)\n",
    "        \n",
    "    return ans"
   ]
  },
  {
   "cell_type": "markdown",
   "metadata": {},
   "source": [
    "## using `cProfile`\n",
    "\n",
    "[`cProfile`](https://docs.python.org/3.4/library/profile.html#module-cProfile) is the built-in profiler in Python (available since Python 2.5).  It provides a function-by-function report of execution time. First import the module, then usage is simply a call to `cProfile.run()` with your code as argument. It will print out a list of all the functions that were called, with the number of calls and the time spent in each.\n"
   ]
  },
  {
   "cell_type": "code",
   "execution_count": 49,
   "metadata": {},
   "outputs": [
    {
     "name": "stdout",
     "output_type": "stream",
     "text": [
      "         11 function calls in 3.707 seconds\n",
      "\n",
      "   Ordered by: standard name\n",
      "\n",
      "   ncalls  tottime  percall  cumtime  percall filename:lineno(function)\n",
      "        1    0.600    0.600    0.702    0.702 4020217437.py:10(randmatmul)\n",
      "        1    0.002    0.002    3.707    3.707 4020217437.py:15(useless)\n",
      "        1    0.000    0.000    1.001    1.001 4020217437.py:4(sleepy)\n",
      "        1    0.000    0.000    2.002    2.002 4020217437.py:7(supersleepy)\n",
      "        1    0.000    0.000    3.707    3.707 <string>:1(<module>)\n",
      "        1    0.000    0.000    3.707    3.707 {built-in method builtins.exec}\n",
      "        1    0.000    0.000    0.000    0.000 {built-in method builtins.isinstance}\n",
      "        2    3.003    1.502    3.003    1.502 {built-in method time.sleep}\n",
      "        1    0.000    0.000    0.000    0.000 {method 'disable' of '_lsprof.Profiler' objects}\n",
      "        1    0.102    0.102    0.102    0.102 {method 'random' of 'numpy.random.mtrand.RandomState' objects}\n",
      "\n",
      "\n"
     ]
    }
   ],
   "source": [
    "import cProfile\n",
    "\n",
    "cProfile.run('useless(3000)')"
   ]
  },
  {
   "cell_type": "markdown",
   "metadata": {},
   "source": [
    "## using `snakeviz`"
   ]
  },
  {
   "cell_type": "code",
   "execution_count": 50,
   "metadata": {},
   "outputs": [],
   "source": [
    "%load_ext snakeviz"
   ]
  },
  {
   "cell_type": "code",
   "execution_count": 51,
   "metadata": {},
   "outputs": [
    {
     "name": "stdout",
     "output_type": "stream",
     "text": [
      " \n",
      "*** Profile stats marshalled to file '/tmp/tmpql090cgl'.\n",
      "Embedding SnakeViz in this document...\n"
     ]
    },
    {
     "data": {
      "text/html": [
       "\n",
       "<iframe id='snakeviz-5048bb90-7f0c-11ed-841a-7da02da4d3a9' frameborder=0 seamless width='100%' height='1000'></iframe>\n",
       "<script>document.getElementById(\"snakeviz-5048bb90-7f0c-11ed-841a-7da02da4d3a9\").setAttribute(\"src\", \"http://\" + document.location.hostname + \":8080/snakeviz/%2Ftmp%2Ftmpql090cgl\")</script>\n"
      ],
      "text/plain": [
       "<IPython.core.display.HTML object>"
      ]
     },
     "metadata": {},
     "output_type": "display_data"
    }
   ],
   "source": [
    "%snakeviz useless(3000)"
   ]
  },
  {
   "cell_type": "markdown",
   "metadata": {},
   "source": [
    "## using `line_profiler`\n",
    "\n",
    "`line_profiler` offers more granular information than `cProfile`: it will give timing information about each line of code in a profiled function.\n",
    "\n",
    "### For a pop-up window with results in notebook:\n",
    "\n",
    "IPython has an `%lprun` magic to profile specific functions within an executed statement. Usage:\n",
    "`%lprun -f func_to_profile <statement>` (get more help by running `%lprun?` in IPython)."
   ]
  },
  {
   "cell_type": "code",
   "execution_count": 52,
   "metadata": {},
   "outputs": [
    {
     "name": "stdout",
     "output_type": "stream",
     "text": [
      "The line_profiler extension is already loaded. To reload it, use:\n",
      "  %reload_ext line_profiler\n"
     ]
    }
   ],
   "source": [
    "%load_ext line_profiler\n",
    "%lprun -f sleepy -f supersleepy useless(1000)"
   ]
  },
  {
   "cell_type": "markdown",
   "metadata": {},
   "source": [
    "### Write results to a text file"
   ]
  },
  {
   "cell_type": "code",
   "execution_count": null,
   "metadata": {},
   "outputs": [],
   "source": [
    "%lprun -T timings.txt -f sleepy useless(1000)"
   ]
  },
  {
   "cell_type": "markdown",
   "metadata": {},
   "source": [
    "## Profiling on the command line\n",
    "\n",
    "Open file, add `@profile` decorator to any function you want to profile, then run\n",
    "\n",
    "```console\n",
    "kernprof -l script_to_profile.py\n",
    "```\n",
    "\n",
    "which will generate `script_to_profile.py.lprof` (pickled result).  To view the results, run\n",
    "\n",
    "```console\n",
    "python -m line_profiler script_to_profile.py.lprof\n",
    "```"
   ]
  },
  {
   "cell_type": "code",
   "execution_count": 53,
   "metadata": {},
   "outputs": [
    {
     "data": {
      "text/html": [
       "\n",
       "        <iframe\n",
       "            width=\"800\"\n",
       "            height=\"700\"\n",
       "            src=\"http://localhost:8888/terminals/1\"\n",
       "            frameborder=\"0\"\n",
       "            allowfullscreen\n",
       "            \n",
       "        ></iframe>\n",
       "        "
      ],
      "text/plain": [
       "<IPython.lib.display.IFrame at 0x7f16e96a5c10>"
      ]
     },
     "execution_count": 53,
     "metadata": {},
     "output_type": "execute_result"
    }
   ],
   "source": [
    "from IPython.display import IFrame\n",
    "IFrame('http://localhost:8888/terminals/1', width=800, height=700)"
   ]
  },
  {
   "cell_type": "markdown",
   "metadata": {},
   "source": [
    "## `timeit`\n",
    "\n",
    "```python\n",
    "python -m timeit \"print(42)\"\n",
    "```\n"
   ]
  },
  {
   "cell_type": "code",
   "execution_count": 54,
   "metadata": {},
   "outputs": [
    {
     "name": "stdout",
     "output_type": "stream",
     "text": [
      "18.1 ns ± 0.215 ns per loop (mean ± std. dev. of 7 runs, 100,000,000 loops each)\n"
     ]
    }
   ],
   "source": [
    "# line magic\n",
    "%timeit x=10"
   ]
  },
  {
   "cell_type": "code",
   "execution_count": 55,
   "metadata": {},
   "outputs": [
    {
     "name": "stdout",
     "output_type": "stream",
     "text": [
      "92.7 ns ± 3.7 ns per loop (mean ± std. dev. of 7 runs, 10,000,000 loops each)\n"
     ]
    }
   ],
   "source": [
    "%%timeit \n",
    "# cell magic\n",
    "\n",
    "x=10\n",
    "a='hello'\n",
    "d=[1,2,3]"
   ]
  },
  {
   "cell_type": "markdown",
   "metadata": {},
   "source": [
    "JIT\n",
    "===\n",
    "\n",
    "### Array sum\n",
    "\n",
    "The function below is a naive `sum` function that sums all the elements of a given array."
   ]
  },
  {
   "cell_type": "code",
   "execution_count": 57,
   "metadata": {},
   "outputs": [],
   "source": [
    "def sum_array(inp):\n",
    "    J, I = inp.shape\n",
    "    \n",
    "    #this is a bad idea\n",
    "    mysum = 0\n",
    "    for j in range(J):\n",
    "        for i in range(I):\n",
    "            mysum += inp[j, i]\n",
    "            \n",
    "    return mysum"
   ]
  },
  {
   "cell_type": "code",
   "execution_count": 58,
   "metadata": {},
   "outputs": [
    {
     "name": "stdout",
     "output_type": "stream",
     "text": [
      "20.3 ms ± 1.09 ms per loop (mean ± std. dev. of 7 runs, 100 loops each)\n"
     ]
    }
   ],
   "source": [
    "import numpy\n",
    "arr = numpy.random.random((300, 300))\n",
    "\n",
    "sum_array(arr)\n",
    "\n",
    "plain = %timeit -o sum_array(arr)"
   ]
  },
  {
   "cell_type": "code",
   "execution_count": 59,
   "metadata": {},
   "outputs": [
    {
     "name": "stdout",
     "output_type": "stream",
     "text": [
      "167 µs ± 7.89 µs per loop (mean ± std. dev. of 7 runs, 10,000 loops each)\n"
     ]
    },
    {
     "data": {
      "text/plain": [
       "118.40700135802854"
      ]
     },
     "execution_count": 59,
     "metadata": {},
     "output_type": "execute_result"
    }
   ],
   "source": [
    "from numba import jit\n",
    "\n",
    "sum_array_numba = jit()(sum_array)\n",
    "\n",
    "sum_array_numba(arr)\n",
    "\n",
    "jitted = %timeit -o sum_array_numba(arr)\n",
    "\n",
    "plain.best / jitted.best\n"
   ]
  },
  {
   "cell_type": "markdown",
   "metadata": {},
   "source": [
    "## More commonly as a decorator"
   ]
  },
  {
   "cell_type": "code",
   "execution_count": 60,
   "metadata": {},
   "outputs": [],
   "source": [
    "@jit\n",
    "def sum_array(inp):\n",
    "    I, J = inp.shape\n",
    "    \n",
    "    mysum = 0\n",
    "    for i in range(I):\n",
    "        for j in range(J):\n",
    "            mysum += inp[i, j]\n",
    "            \n",
    "    return mysum"
   ]
  },
  {
   "cell_type": "code",
   "execution_count": 61,
   "metadata": {},
   "outputs": [
    {
     "name": "stdout",
     "output_type": "stream",
     "text": [
      "37.3 µs ± 452 ns per loop (mean ± std. dev. of 7 runs, 10,000 loops each)\n"
     ]
    }
   ],
   "source": [
    "%timeit arr.sum()"
   ]
  },
  {
   "cell_type": "markdown",
   "metadata": {},
   "source": [
    "Exercise 1. JIT the Mandelbrot fractal\n",
    "--------------------------------------------\n",
    "\n",
    "Separate exercise notebook or use your own Mandelbrot code \n",
    "\n",
    "1. Profile the code, find the bottlenecks\n",
    "2. Use Numba to speed up the code\n",
    "3. Compare the timing"
   ]
  },
  {
   "cell_type": "code",
   "execution_count": 62,
   "metadata": {},
   "outputs": [],
   "source": [
    "@jit\n",
    "def add(a, b):\n",
    "    return a + b"
   ]
  },
  {
   "cell_type": "code",
   "execution_count": 63,
   "metadata": {},
   "outputs": [
    {
     "data": {
      "text/plain": [
       "2"
      ]
     },
     "execution_count": 63,
     "metadata": {},
     "output_type": "execute_result"
    }
   ],
   "source": [
    "add(1, 1)"
   ]
  },
  {
   "cell_type": "markdown",
   "metadata": {},
   "source": [
    "Numba examines Python bytecode and then translates this into an 'intermediate representation'.  To view this IR, run (compile) `add` and you can access the `inspect_types` method."
   ]
  },
  {
   "cell_type": "code",
   "execution_count": 64,
   "metadata": {},
   "outputs": [
    {
     "name": "stdout",
     "output_type": "stream",
     "text": [
      "add (int64, int64)\n",
      "--------------------------------------------------------------------------------\n",
      "# File: /tmp/ipykernel_27399/2002586577.py\n",
      "# --- LINE 1 --- \n",
      "\n",
      "@jit\n",
      "\n",
      "# --- LINE 2 --- \n",
      "\n",
      "def add(a, b):\n",
      "\n",
      "    # --- LINE 3 --- \n",
      "    # label 0\n",
      "    #   a = arg(0, name=a)  :: int64\n",
      "    #   b = arg(1, name=b)  :: int64\n",
      "    #   $6binary_add.2 = a + b  :: int64\n",
      "    #   del b\n",
      "    #   del a\n",
      "    #   $8return_value.3 = cast(value=$6binary_add.2)  :: int64\n",
      "    #   del $6binary_add.2\n",
      "    #   return $8return_value.3\n",
      "\n",
      "    return a + b\n",
      "\n",
      "\n",
      "================================================================================\n"
     ]
    }
   ],
   "source": [
    "add.inspect_types()"
   ]
  },
  {
   "cell_type": "markdown",
   "metadata": {},
   "source": [
    "Ok.  Numba is has correctly inferred the type of the arguments, defining things as `int64` and running smoothly.  \n",
    "\n",
    "(What happens if you do `add(1., 1.)` and then `inspect_types`?)"
   ]
  },
  {
   "cell_type": "code",
   "execution_count": 65,
   "metadata": {},
   "outputs": [
    {
     "data": {
      "text/plain": [
       "2.0"
      ]
     },
     "execution_count": 65,
     "metadata": {},
     "output_type": "execute_result"
    }
   ],
   "source": [
    "add(1.,1.)"
   ]
  },
  {
   "cell_type": "code",
   "execution_count": 66,
   "metadata": {},
   "outputs": [
    {
     "name": "stdout",
     "output_type": "stream",
     "text": [
      "add (int64, int64)\n",
      "--------------------------------------------------------------------------------\n",
      "# File: /tmp/ipykernel_27399/2002586577.py\n",
      "# --- LINE 1 --- \n",
      "\n",
      "@jit\n",
      "\n",
      "# --- LINE 2 --- \n",
      "\n",
      "def add(a, b):\n",
      "\n",
      "    # --- LINE 3 --- \n",
      "    # label 0\n",
      "    #   a = arg(0, name=a)  :: int64\n",
      "    #   b = arg(1, name=b)  :: int64\n",
      "    #   $6binary_add.2 = a + b  :: int64\n",
      "    #   del b\n",
      "    #   del a\n",
      "    #   $8return_value.3 = cast(value=$6binary_add.2)  :: int64\n",
      "    #   del $6binary_add.2\n",
      "    #   return $8return_value.3\n",
      "\n",
      "    return a + b\n",
      "\n",
      "\n",
      "================================================================================\n",
      "add (float64, float64)\n",
      "--------------------------------------------------------------------------------\n",
      "# File: /tmp/ipykernel_27399/2002586577.py\n",
      "# --- LINE 1 --- \n",
      "\n",
      "@jit\n",
      "\n",
      "# --- LINE 2 --- \n",
      "\n",
      "def add(a, b):\n",
      "\n",
      "    # --- LINE 3 --- \n",
      "    # label 0\n",
      "    #   a = arg(0, name=a)  :: float64\n",
      "    #   b = arg(1, name=b)  :: float64\n",
      "    #   $6binary_add.2 = a + b  :: float64\n",
      "    #   del b\n",
      "    #   del a\n",
      "    #   $8return_value.3 = cast(value=$6binary_add.2)  :: float64\n",
      "    #   del $6binary_add.2\n",
      "    #   return $8return_value.3\n",
      "\n",
      "    return a + b\n",
      "\n",
      "\n",
      "================================================================================\n"
     ]
    }
   ],
   "source": [
    "add.inspect_types()"
   ]
  },
  {
   "cell_type": "markdown",
   "metadata": {},
   "source": [
    "### What about the actual LLVM code?\n",
    "\n",
    "You can see the actual LLVM code generated by Numba using the `inspect_llvm()` method.  Since it's a `dict`, doing the following will be slightly more visually friendly."
   ]
  },
  {
   "cell_type": "code",
   "execution_count": 67,
   "metadata": {},
   "outputs": [
    {
     "name": "stdout",
     "output_type": "stream",
     "text": [
      "(int64, int64) ; ModuleID = 'add'\n",
      "source_filename = \"<string>\"\n",
      "target datalayout = \"e-m:e-p270:32:32-p271:32:32-p272:64:64-i64:64-f80:128-n8:16:32:64-S128\"\n",
      "target triple = \"x86_64-unknown-linux-gnu\"\n",
      "\n",
      "@_ZN08NumbaEnv8__main__3addB3v13B44c8tJTIcFHzwl2ILiXkcBLaFgF0XXBPQ5mKUJAA_3d_3dExx = common local_unnamed_addr global i8* null\n",
      "@.const.add = internal constant [4 x i8] c\"add\\00\"\n",
      "@PyExc_RuntimeError = external global i8\n",
      "@\".const.missing Environment: _ZN08NumbaEnv8__main__3addB3v13B44c8tJTIcFHzwl2ILiXkcBLaFgF0XXBPQ5mKUJAA_3d_3dExx\" = internal constant [103 x i8] c\"missing Environment: _ZN08NumbaEnv8__main__3addB3v13B44c8tJTIcFHzwl2ILiXkcBLaFgF0XXBPQ5mKUJAA_3d_3dExx\\00\"\n",
      "\n",
      "; Function Attrs: nofree norecurse nounwind writeonly\n",
      "define i32 @_ZN8__main__3addB3v13B44c8tJTIcFHzwl2ILiXkcBLaFgF0XXBPQ5mKUJAA_3d_3dExx(i64* noalias nocapture %retptr, { i8*, i32, i8* }** noalias nocapture readnone %excinfo, i64 %arg.a, i64 %arg.b) local_unnamed_addr #0 {\n",
      "entry:\n",
      "  %.6 = add nsw i64 %arg.b, %arg.a\n",
      "  store i64 %.6, i64* %retptr, align 8\n",
      "  ret i32 0\n",
      "}\n",
      "\n",
      "define i8* @_ZN7cpython8__main__3addB3v13B44c8tJTIcFHzwl2ILiXkcBLaFgF0XXBPQ5mKUJAA_3d_3dExx(i8* nocapture readnone %py_closure, i8* %py_args, i8* nocapture readnone %py_kws) local_unnamed_addr {\n",
      "entry:\n",
      "  %.5 = alloca i8*, align 8\n",
      "  %.6 = alloca i8*, align 8\n",
      "  %.7 = call i32 (i8*, i8*, i64, i64, ...) @PyArg_UnpackTuple(i8* %py_args, i8* getelementptr inbounds ([4 x i8], [4 x i8]* @.const.add, i64 0, i64 0), i64 2, i64 2, i8** nonnull %.5, i8** nonnull %.6)\n",
      "  %.8 = icmp eq i32 %.7, 0\n",
      "  %.53 = alloca i64, align 8\n",
      "  store i64 0, i64* %.53, align 8\n",
      "  br i1 %.8, label %entry.if, label %entry.endif, !prof !0\n",
      "\n",
      "entry.if:                                         ; preds = %entry.endif.endif.endif.endif.endif, %entry.endif.endif.endif, %entry\n",
      "  ret i8* null\n",
      "\n",
      "entry.endif:                                      ; preds = %entry\n",
      "  %.12 = load i8*, i8** @_ZN08NumbaEnv8__main__3addB3v13B44c8tJTIcFHzwl2ILiXkcBLaFgF0XXBPQ5mKUJAA_3d_3dExx, align 8\n",
      "  %.17 = icmp eq i8* %.12, null\n",
      "  br i1 %.17, label %entry.endif.if, label %entry.endif.endif, !prof !0\n",
      "\n",
      "entry.endif.if:                                   ; preds = %entry.endif\n",
      "  call void @PyErr_SetString(i8* nonnull @PyExc_RuntimeError, i8* getelementptr inbounds ([103 x i8], [103 x i8]* @\".const.missing Environment: _ZN08NumbaEnv8__main__3addB3v13B44c8tJTIcFHzwl2ILiXkcBLaFgF0XXBPQ5mKUJAA_3d_3dExx\", i64 0, i64 0))\n",
      "  ret i8* null\n",
      "\n",
      "entry.endif.endif:                                ; preds = %entry.endif\n",
      "  %.21 = load i8*, i8** %.5, align 8\n",
      "  %.24 = call i8* @PyNumber_Long(i8* %.21)\n",
      "  %.25.not = icmp eq i8* %.24, null\n",
      "  br i1 %.25.not, label %entry.endif.endif.endif, label %entry.endif.endif.if, !prof !0\n",
      "\n",
      "entry.endif.endif.if:                             ; preds = %entry.endif.endif\n",
      "  %.27 = call i64 @PyLong_AsLongLong(i8* nonnull %.24)\n",
      "  call void @Py_DecRef(i8* nonnull %.24)\n",
      "  br label %entry.endif.endif.endif\n",
      "\n",
      "entry.endif.endif.endif:                          ; preds = %entry.endif.endif, %entry.endif.endif.if\n",
      "  %.22.0 = phi i64 [ %.27, %entry.endif.endif.if ], [ 0, %entry.endif.endif ]\n",
      "  %.32 = call i8* @PyErr_Occurred()\n",
      "  %.33.not = icmp eq i8* %.32, null\n",
      "  br i1 %.33.not, label %entry.endif.endif.endif.endif, label %entry.if, !prof !1\n",
      "\n",
      "entry.endif.endif.endif.endif:                    ; preds = %entry.endif.endif.endif\n",
      "  %.37 = load i8*, i8** %.6, align 8\n",
      "  %.40 = call i8* @PyNumber_Long(i8* %.37)\n",
      "  %.41.not = icmp eq i8* %.40, null\n",
      "  br i1 %.41.not, label %entry.endif.endif.endif.endif.endif, label %entry.endif.endif.endif.endif.if, !prof !0\n",
      "\n",
      "entry.endif.endif.endif.endif.if:                 ; preds = %entry.endif.endif.endif.endif\n",
      "  %.43 = call i64 @PyLong_AsLongLong(i8* nonnull %.40)\n",
      "  call void @Py_DecRef(i8* nonnull %.40)\n",
      "  br label %entry.endif.endif.endif.endif.endif\n",
      "\n",
      "entry.endif.endif.endif.endif.endif:              ; preds = %entry.endif.endif.endif.endif, %entry.endif.endif.endif.endif.if\n",
      "  %.38.0 = phi i64 [ %.43, %entry.endif.endif.endif.endif.if ], [ 0, %entry.endif.endif.endif.endif ]\n",
      "  %.48 = call i8* @PyErr_Occurred()\n",
      "  %.49.not = icmp eq i8* %.48, null\n",
      "  br i1 %.49.not, label %entry.endif.endif.endif.endif.endif.endif, label %entry.if, !prof !1\n",
      "\n",
      "entry.endif.endif.endif.endif.endif.endif:        ; preds = %entry.endif.endif.endif.endif.endif\n",
      "  store i64 0, i64* %.53, align 8\n",
      "  %.57 = call i32 @_ZN8__main__3addB3v13B44c8tJTIcFHzwl2ILiXkcBLaFgF0XXBPQ5mKUJAA_3d_3dExx(i64* nonnull %.53, { i8*, i32, i8* }** undef, i64 %.22.0, i64 %.38.0) #2\n",
      "  %.67 = load i64, i64* %.53, align 8\n",
      "  %.74 = call i8* @PyLong_FromLongLong(i64 %.67)\n",
      "  ret i8* %.74\n",
      "}\n",
      "\n",
      "declare i32 @PyArg_UnpackTuple(i8*, i8*, i64, i64, ...) local_unnamed_addr\n",
      "\n",
      "declare void @PyErr_SetString(i8*, i8*) local_unnamed_addr\n",
      "\n",
      "declare i8* @PyNumber_Long(i8*) local_unnamed_addr\n",
      "\n",
      "declare i64 @PyLong_AsLongLong(i8*) local_unnamed_addr\n",
      "\n",
      "declare void @Py_DecRef(i8*) local_unnamed_addr\n",
      "\n",
      "declare i8* @PyErr_Occurred() local_unnamed_addr\n",
      "\n",
      "declare i8* @PyLong_FromLongLong(i64) local_unnamed_addr\n",
      "\n",
      "; Function Attrs: nofree norecurse nounwind writeonly\n",
      "define i64 @cfunc._ZN8__main__3addB3v13B44c8tJTIcFHzwl2ILiXkcBLaFgF0XXBPQ5mKUJAA_3d_3dExx(i64 %.1, i64 %.2) local_unnamed_addr #0 {\n",
      "entry:\n",
      "  %.4 = alloca i64, align 8\n",
      "  store i64 0, i64* %.4, align 8\n",
      "  %.8 = call i32 @_ZN8__main__3addB3v13B44c8tJTIcFHzwl2ILiXkcBLaFgF0XXBPQ5mKUJAA_3d_3dExx(i64* nonnull %.4, { i8*, i32, i8* }** undef, i64 %.1, i64 %.2) #2\n",
      "  %.18 = load i64, i64* %.4, align 8\n",
      "  ret i64 %.18\n",
      "}\n",
      "\n",
      "; Function Attrs: nounwind\n",
      "declare void @llvm.stackprotector(i8*, i8**) #1\n",
      "\n",
      "attributes #0 = { nofree norecurse nounwind writeonly }\n",
      "attributes #1 = { nounwind }\n",
      "attributes #2 = { noinline }\n",
      "\n",
      "!0 = !{!\"branch_weights\", i32 1, i32 99}\n",
      "!1 = !{!\"branch_weights\", i32 99, i32 1}\n",
      "\n",
      "(float64, float64) ; ModuleID = 'add'\n",
      "source_filename = \"<string>\"\n",
      "target datalayout = \"e-m:e-p270:32:32-p271:32:32-p272:64:64-i64:64-f80:128-n8:16:32:64-S128\"\n",
      "target triple = \"x86_64-unknown-linux-gnu\"\n",
      "\n",
      "@_ZN08NumbaEnv8__main__3addB3v14B44c8tJTIcFHzwl2ILiXkcBLaFgF0XXBPQ5mKUJAA_3d_3dEdd = common local_unnamed_addr global i8* null\n",
      "@.const.add = internal constant [4 x i8] c\"add\\00\"\n",
      "@PyExc_RuntimeError = external global i8\n",
      "@\".const.missing Environment: _ZN08NumbaEnv8__main__3addB3v14B44c8tJTIcFHzwl2ILiXkcBLaFgF0XXBPQ5mKUJAA_3d_3dEdd\" = internal constant [103 x i8] c\"missing Environment: _ZN08NumbaEnv8__main__3addB3v14B44c8tJTIcFHzwl2ILiXkcBLaFgF0XXBPQ5mKUJAA_3d_3dEdd\\00\"\n",
      "\n",
      "; Function Attrs: nofree norecurse nounwind writeonly\n",
      "define i32 @_ZN8__main__3addB3v14B44c8tJTIcFHzwl2ILiXkcBLaFgF0XXBPQ5mKUJAA_3d_3dEdd(double* noalias nocapture %retptr, { i8*, i32, i8* }** noalias nocapture readnone %excinfo, double %arg.a, double %arg.b) local_unnamed_addr #0 {\n",
      "entry:\n",
      "  %.6 = fadd double %arg.a, %arg.b\n",
      "  store double %.6, double* %retptr, align 8\n",
      "  ret i32 0\n",
      "}\n",
      "\n",
      "define i8* @_ZN7cpython8__main__3addB3v14B44c8tJTIcFHzwl2ILiXkcBLaFgF0XXBPQ5mKUJAA_3d_3dEdd(i8* nocapture readnone %py_closure, i8* %py_args, i8* nocapture readnone %py_kws) local_unnamed_addr {\n",
      "entry:\n",
      "  %.5 = alloca i8*, align 8\n",
      "  %.6 = alloca i8*, align 8\n",
      "  %.7 = call i32 (i8*, i8*, i64, i64, ...) @PyArg_UnpackTuple(i8* %py_args, i8* getelementptr inbounds ([4 x i8], [4 x i8]* @.const.add, i64 0, i64 0), i64 2, i64 2, i8** nonnull %.5, i8** nonnull %.6)\n",
      "  %.8 = icmp eq i32 %.7, 0\n",
      "  %.39 = alloca double, align 8\n",
      "  store double 0.000000e+00, double* %.39, align 8\n",
      "  br i1 %.8, label %entry.if, label %entry.endif, !prof !0\n",
      "\n",
      "entry.if:                                         ; preds = %entry.endif.endif.endif, %entry.endif.endif, %entry\n",
      "  ret i8* null\n",
      "\n",
      "entry.endif:                                      ; preds = %entry\n",
      "  %.12 = load i8*, i8** @_ZN08NumbaEnv8__main__3addB3v14B44c8tJTIcFHzwl2ILiXkcBLaFgF0XXBPQ5mKUJAA_3d_3dEdd, align 8\n",
      "  %.17 = icmp eq i8* %.12, null\n",
      "  br i1 %.17, label %entry.endif.if, label %entry.endif.endif, !prof !0\n",
      "\n",
      "entry.endif.if:                                   ; preds = %entry.endif\n",
      "  call void @PyErr_SetString(i8* nonnull @PyExc_RuntimeError, i8* getelementptr inbounds ([103 x i8], [103 x i8]* @\".const.missing Environment: _ZN08NumbaEnv8__main__3addB3v14B44c8tJTIcFHzwl2ILiXkcBLaFgF0XXBPQ5mKUJAA_3d_3dEdd\", i64 0, i64 0))\n",
      "  ret i8* null\n",
      "\n",
      "entry.endif.endif:                                ; preds = %entry.endif\n",
      "  %.21 = load i8*, i8** %.5, align 8\n",
      "  %.22 = call i8* @PyNumber_Float(i8* %.21)\n",
      "  %.23 = call double @PyFloat_AsDouble(i8* %.22)\n",
      "  call void @Py_DecRef(i8* %.22)\n",
      "  %.25 = call i8* @PyErr_Occurred()\n",
      "  %.26.not = icmp eq i8* %.25, null\n",
      "  br i1 %.26.not, label %entry.endif.endif.endif, label %entry.if, !prof !1\n",
      "\n",
      "entry.endif.endif.endif:                          ; preds = %entry.endif.endif\n",
      "  %.30 = load i8*, i8** %.6, align 8\n",
      "  %.31 = call i8* @PyNumber_Float(i8* %.30)\n",
      "  %.32 = call double @PyFloat_AsDouble(i8* %.31)\n",
      "  call void @Py_DecRef(i8* %.31)\n",
      "  %.34 = call i8* @PyErr_Occurred()\n",
      "  %.35.not = icmp eq i8* %.34, null\n",
      "  br i1 %.35.not, label %entry.endif.endif.endif.endif, label %entry.if, !prof !1\n",
      "\n",
      "entry.endif.endif.endif.endif:                    ; preds = %entry.endif.endif.endif\n",
      "  store double 0.000000e+00, double* %.39, align 8\n",
      "  %.43 = call i32 @_ZN8__main__3addB3v14B44c8tJTIcFHzwl2ILiXkcBLaFgF0XXBPQ5mKUJAA_3d_3dEdd(double* nonnull %.39, { i8*, i32, i8* }** undef, double %.23, double %.32) #2\n",
      "  %.53 = load double, double* %.39, align 8\n",
      "  %.58 = call i8* @PyFloat_FromDouble(double %.53)\n",
      "  ret i8* %.58\n",
      "}\n",
      "\n",
      "declare i32 @PyArg_UnpackTuple(i8*, i8*, i64, i64, ...) local_unnamed_addr\n",
      "\n",
      "declare void @PyErr_SetString(i8*, i8*) local_unnamed_addr\n",
      "\n",
      "declare i8* @PyNumber_Float(i8*) local_unnamed_addr\n",
      "\n",
      "declare double @PyFloat_AsDouble(i8*) local_unnamed_addr\n",
      "\n",
      "declare void @Py_DecRef(i8*) local_unnamed_addr\n",
      "\n",
      "declare i8* @PyErr_Occurred() local_unnamed_addr\n",
      "\n",
      "declare i8* @PyFloat_FromDouble(double) local_unnamed_addr\n",
      "\n",
      "; Function Attrs: nofree norecurse nounwind writeonly\n",
      "define double @cfunc._ZN8__main__3addB3v14B44c8tJTIcFHzwl2ILiXkcBLaFgF0XXBPQ5mKUJAA_3d_3dEdd(double %.1, double %.2) local_unnamed_addr #0 {\n",
      "entry:\n",
      "  %.4 = alloca double, align 8\n",
      "  store double 0.000000e+00, double* %.4, align 8\n",
      "  %.8 = call i32 @_ZN8__main__3addB3v14B44c8tJTIcFHzwl2ILiXkcBLaFgF0XXBPQ5mKUJAA_3d_3dEdd(double* nonnull %.4, { i8*, i32, i8* }** undef, double %.1, double %.2) #2\n",
      "  %.18 = load double, double* %.4, align 8\n",
      "  ret double %.18\n",
      "}\n",
      "\n",
      "; Function Attrs: nounwind\n",
      "declare void @llvm.stackprotector(i8*, i8**) #1\n",
      "\n",
      "attributes #0 = { nofree norecurse nounwind writeonly }\n",
      "attributes #1 = { nounwind }\n",
      "attributes #2 = { noinline }\n",
      "\n",
      "!0 = !{!\"branch_weights\", i32 1, i32 99}\n",
      "!1 = !{!\"branch_weights\", i32 99, i32 1}\n",
      "\n"
     ]
    }
   ],
   "source": [
    "for k, v in add.inspect_llvm().items():\n",
    "    print(k, v)"
   ]
  },
  {
   "cell_type": "markdown",
   "metadata": {},
   "source": [
    "## But there's a caveat\n",
    "Now, watch what happens when we try to do something that is natural in Python, but not particularly mathematically sound:"
   ]
  },
  {
   "cell_type": "code",
   "execution_count": 68,
   "metadata": {},
   "outputs": [],
   "source": [
    "from numba import njit"
   ]
  },
  {
   "cell_type": "code",
   "execution_count": 69,
   "metadata": {},
   "outputs": [],
   "source": [
    "def add_strings(a, b):\n",
    "    return a + b"
   ]
  },
  {
   "cell_type": "code",
   "execution_count": 70,
   "metadata": {},
   "outputs": [],
   "source": [
    "add_strings_jit = njit()(add_strings)"
   ]
  },
  {
   "cell_type": "code",
   "execution_count": 71,
   "metadata": {},
   "outputs": [
    {
     "data": {
      "text/plain": [
       "'ab'"
      ]
     },
     "execution_count": 71,
     "metadata": {},
     "output_type": "execute_result"
    }
   ],
   "source": [
    "add_strings_jit('a', 'b')"
   ]
  },
  {
   "cell_type": "code",
   "execution_count": 72,
   "metadata": {},
   "outputs": [
    {
     "name": "stdout",
     "output_type": "stream",
     "text": [
      "add_strings (unicode_type, unicode_type)\n",
      "--------------------------------------------------------------------------------\n",
      "# File: /tmp/ipykernel_27399/582987202.py\n",
      "# --- LINE 1 --- \n",
      "\n",
      "def add_strings(a, b):\n",
      "\n",
      "    # --- LINE 2 --- \n",
      "    # label 0\n",
      "    #   a = arg(0, name=a)  :: unicode_type\n",
      "    #   b = arg(1, name=b)  :: unicode_type\n",
      "    #   $6binary_add.2 = a + b  :: unicode_type\n",
      "    #   del b\n",
      "    #   del a\n",
      "    #   $8return_value.3 = cast(value=$6binary_add.2)  :: unicode_type\n",
      "    #   del $6binary_add.2\n",
      "    #   return $8return_value.3\n",
      "\n",
      "    return a + b\n",
      "\n",
      "\n",
      "================================================================================\n"
     ]
    }
   ],
   "source": [
    "add_strings_jit.inspect_types()"
   ]
  },
  {
   "cell_type": "markdown",
   "metadata": {},
   "source": [
    "### Compiler options\n",
    "\n",
    "```python\n",
    "cache=True\n",
    "```\n",
    "\n",
    "if you don't want to always want to get dinged by the compilation time for every run. This will actually save the compiled function into something like a `pyc` file in your `__pycache__` directory, so even between sessions you should have nice fast performance."
   ]
  },
  {
   "cell_type": "code",
   "execution_count": 92,
   "metadata": {},
   "outputs": [],
   "source": [
    "#implementing code for fractal generation from our previous julia set implementation to compare speeds\n",
    "#I used it rather than the basic mandlebrot fractal to include parameter c and play around with it "
   ]
  },
  {
   "cell_type": "code",
   "execution_count": 73,
   "metadata": {},
   "outputs": [],
   "source": [
    "golden = (1 + 5 ** 0.5) / 2"
   ]
  },
  {
   "cell_type": "code",
   "execution_count": 74,
   "metadata": {},
   "outputs": [],
   "source": [
    "def julia_map(z, c):\n",
    "    return z ** 2 + c\n",
    "\n",
    "\n",
    "def check_for_convergence(z, c, n_iterations, max_module):\n",
    "    converges = True\n",
    "    \n",
    "    for i in range(1, n_iterations + 1):\n",
    "        z = julia_map(z, c)\n",
    "        \n",
    "        if abs(z) > max_module:\n",
    "            converges = False\n",
    "            break\n",
    "    \n",
    "    ratio = i / n_iterations\n",
    "    return ratio, converges\n",
    "\n",
    "\n",
    "def initialize_julia_set(x_range, y_range):\n",
    "    return np.zeros((x_range, y_range))\n",
    "\n",
    "\n",
    "def construct_julia_set(x_range, y_range, x_min, y_min, x_max, y_max, c, max_module, n_iterations):\n",
    "    width, height = x_max - x_min, y_max - y_min\n",
    "    julia_set = initialize_julia_set(x_range, y_range)\n",
    "\n",
    "    for i in range(x_range):\n",
    "        for j in range(y_range):\n",
    "\n",
    "            z = complex(i / x_range * width + x_min, j / y_range * height + y_min)\n",
    "            ratio, converges = check_for_convergence(z, c, n_iterations, max_module)\n",
    "            julia_set[i, j] = 1 - np.sqrt(ratio)\n",
    "    \n",
    "    return julia_set"
   ]
  },
  {
   "cell_type": "code",
   "execution_count": 75,
   "metadata": {},
   "outputs": [],
   "source": [
    "x_range, y_range = 500, 500\n",
    "\n",
    "x_min, x_max = -1.5, 1.5\n",
    "width = x_max - x_min\n",
    "\n",
    "y_min, y_max = -1.5, 1.5\n",
    "height = y_max - y_min"
   ]
  },
  {
   "cell_type": "code",
   "execution_count": 76,
   "metadata": {},
   "outputs": [],
   "source": [
    "c = 1 - golden\n",
    "max_module = 4\n",
    "n_iterations = 200"
   ]
  },
  {
   "cell_type": "code",
   "execution_count": 77,
   "metadata": {},
   "outputs": [],
   "source": [
    "args = (x_range, y_range, x_min, y_min, x_max, y_max, c, max_module, n_iterations)"
   ]
  },
  {
   "cell_type": "code",
   "execution_count": 78,
   "metadata": {},
   "outputs": [
    {
     "name": "stdout",
     "output_type": "stream",
     "text": [
      "CPU times: user 5.17 s, sys: 3.82 ms, total: 5.17 s\n",
      "Wall time: 5.18 s\n"
     ]
    }
   ],
   "source": [
    "%%time\n",
    "_ = construct_julia_set(*args)"
   ]
  },
  {
   "cell_type": "code",
   "execution_count": 79,
   "metadata": {},
   "outputs": [
    {
     "name": "stdout",
     "output_type": "stream",
     "text": [
      "217 ms ± 22.2 ms per loop (mean ± std. dev. of 7 runs, 1 loop each)\n",
      "843 ms ± 94.2 ms per loop (mean ± std. dev. of 7 runs, 1 loop each)\n",
      "3.07 s ± 166 ms per loop (mean ± std. dev. of 7 runs, 1 loop each)\n",
      "12.3 s ± 668 ms per loop (mean ± std. dev. of 7 runs, 1 loop each)\n",
      "49.1 s ± 2 s per loop (mean ± std. dev. of 7 runs, 1 loop each)\n"
     ]
    }
   ],
   "source": [
    "factor = 1e2\n",
    "rr = np.logspace(0, 4, 5, base=2).astype(int) * int(factor)\n",
    "results_original_code = []\n",
    "\n",
    "for r in rr:\n",
    "    x_range = y_range = r\n",
    "\n",
    "    sup_args = (x_range, y_range, x_min, y_min, x_max, y_max, c, max_module, n_iterations)\n",
    "    results = %timeit -n 1 -o construct_julia_set(*sup_args)\n",
    "\n",
    "    results_original_code.append(results.best)\n",
    "\n",
    "results_original_code = np.array(results_original_code)"
   ]
  },
  {
   "cell_type": "code",
   "execution_count": 80,
   "metadata": {},
   "outputs": [
    {
     "name": "stdout",
     "output_type": "stream",
     "text": [
      "         28799688 function calls in 9.093 seconds\n",
      "\n",
      "   Ordered by: standard name\n",
      "\n",
      "   ncalls  tottime  percall  cumtime  percall filename:lineno(function)\n",
      " 14274841    2.685    0.000    2.685    0.000 3750789470.py:1(julia_map)\n",
      "        1    0.000    0.000    0.000    0.000 3750789470.py:19(initialize_julia_set)\n",
      "        1    0.548    0.548    9.093    9.093 3750789470.py:23(construct_julia_set)\n",
      "   250000    4.533    0.000    8.544    0.000 3750789470.py:5(check_for_convergence)\n",
      "        1    0.000    0.000    9.093    9.093 <string>:1(<module>)\n",
      " 14274841    1.326    0.000    1.326    0.000 {built-in method builtins.abs}\n",
      "        1    0.000    0.000    9.093    9.093 {built-in method builtins.exec}\n",
      "        1    0.000    0.000    0.000    0.000 {built-in method numpy.zeros}\n",
      "        1    0.000    0.000    0.000    0.000 {method 'disable' of '_lsprof.Profiler' objects}\n",
      "\n",
      "\n"
     ]
    }
   ],
   "source": [
    "cProfile.run('construct_julia_set(*args)')"
   ]
  },
  {
   "cell_type": "code",
   "execution_count": 81,
   "metadata": {},
   "outputs": [
    {
     "name": "stdout",
     "output_type": "stream",
     "text": [
      "The line_profiler extension is already loaded. To reload it, use:\n",
      "  %reload_ext line_profiler\n",
      "\n",
      "*** Profile printout saved to text file 'line_profiler_output.txt'. \n"
     ]
    }
   ],
   "source": [
    "%load_ext line_profiler\n",
    "%lprun -T line_profiler_output.txt -f construct_julia_set construct_julia_set(*args)"
   ]
  },
  {
   "cell_type": "code",
   "execution_count": 82,
   "metadata": {},
   "outputs": [
    {
     "name": "stdout",
     "output_type": "stream",
     "text": [
      "Timer unit: 1e-09 s\r\n",
      "\r\n",
      "Total time: 9.91982 s\r\n",
      "File: /tmp/ipykernel_27399/3750789470.py\r\n",
      "Function: construct_julia_set at line 23\r\n",
      "\r\n",
      "Line #      Hits         Time  Per Hit   % Time  Line Contents\r\n",
      "==============================================================\r\n",
      "    23                                           def construct_julia_set(x_range, y_range, x_min, y_min, x_max, y_max, c, max_module, n_iterations):\r\n",
      "    24         1       3346.0   3346.0      0.0      width, height = x_max - x_min, y_max - y_min\r\n",
      "    25         1     658170.0 658170.0      0.0      julia_set = initialize_julia_set(x_range, y_range)\r\n",
      "    26                                           \r\n",
      "    27       500     163826.0    327.7      0.0      for i in range(x_range):\r\n",
      "    28    250000   65963157.0    263.9      0.7          for j in range(y_range):\r\n",
      "    29                                           \r\n",
      "    30    250000  185020406.0    740.1      1.9              z = complex(i / x_range * width + x_min, j / y_range * height + y_min)\r\n",
      "    31    250000 9185439413.0  36741.8     92.6              ratio, converges = check_for_convergence(z, c, n_iterations, max_module)\r\n",
      "    32    250000  482568859.0   1930.3      4.9              julia_set[i, j] = 1 - np.sqrt(ratio)\r\n",
      "    33                                               \r\n",
      "    34         1        215.0    215.0      0.0      return julia_set"
     ]
    }
   ],
   "source": [
    "!cat line_profiler_output.txt"
   ]
  },
  {
   "cell_type": "code",
   "execution_count": 83,
   "metadata": {},
   "outputs": [],
   "source": [
    "#using numba\n",
    "\n",
    "@njit\n",
    "def julia_map(z, c):\n",
    "    return z ** 2 + c\n",
    "\n",
    "\n",
    "@njit\n",
    "def check_for_convergence(z, c, n_iterations, max_module):\n",
    "    converges = True\n",
    "    \n",
    "    for i in range(1, n_iterations + 1):\n",
    "        z = julia_map(z, c)\n",
    "        \n",
    "        if abs(z) > max_module:\n",
    "            converges = False\n",
    "            break\n",
    "    \n",
    "    ratio = i / n_iterations\n",
    "    return ratio, converges\n",
    "\n",
    "\n",
    "@njit\n",
    "def initialize_julia_set(x_range, y_range):\n",
    "    return np.zeros((x_range, y_range))\n",
    "\n",
    "@njit\n",
    "def construct_julia_set(x_range, y_range, x_min, y_min, x_max, y_max, c, max_module, n_iterations):\n",
    "    width, height = x_max - x_min, y_max - y_min\n",
    "    julia_set = initialize_julia_set(x_range, y_range)\n",
    "\n",
    "    for i in range(x_range):\n",
    "        for j in range(y_range):\n",
    "\n",
    "            z = complex(i / x_range * width + x_min, j / y_range * height + y_min)\n",
    "            ratio, converges = check_for_convergence(z, c, n_iterations, max_module)\n",
    "            julia_set[i, j] = 1 - np.sqrt(ratio)\n",
    "    \n",
    "    return julia_set"
   ]
  },
  {
   "cell_type": "code",
   "execution_count": 84,
   "metadata": {},
   "outputs": [
    {
     "name": "stdout",
     "output_type": "stream",
     "text": [
      "CPU times: user 828 ms, sys: 8 ms, total: 836 ms\n",
      "Wall time: 835 ms\n"
     ]
    }
   ],
   "source": [
    "%%time\n",
    "_ = construct_julia_set(*args)"
   ]
  },
  {
   "cell_type": "code",
   "execution_count": 85,
   "metadata": {},
   "outputs": [
    {
     "name": "stdout",
     "output_type": "stream",
     "text": [
      "9.38 ms ± 1.41 ms per loop (mean ± std. dev. of 7 runs, 1 loop each)\n",
      "30 ms ± 208 µs per loop (mean ± std. dev. of 7 runs, 1 loop each)\n",
      "120 ms ± 794 µs per loop (mean ± std. dev. of 7 runs, 1 loop each)\n",
      "505 ms ± 27.9 ms per loop (mean ± std. dev. of 7 runs, 1 loop each)\n",
      "1.94 s ± 47.6 ms per loop (mean ± std. dev. of 7 runs, 1 loop each)\n"
     ]
    }
   ],
   "source": [
    "factor = 1e2\n",
    "rr = np.logspace(0, 4, 5, base=2).astype(int) * int(factor)\n",
    "results_compiled_code = []\n",
    "\n",
    "for r in rr:\n",
    "    x_range = y_range = r\n",
    "\n",
    "    sup_args = (x_range, y_range, x_min, y_min, x_max, y_max, c, max_module, n_iterations)\n",
    "    results = %timeit -n 1 -o construct_julia_set(*sup_args)\n",
    "\n",
    "    results_compiled_code.append(results.best)\n",
    "\n",
    "results_compiled_code = np.array(results_compiled_code)"
   ]
  },
  {
   "cell_type": "code",
   "execution_count": 87,
   "metadata": {},
   "outputs": [
    {
     "data": {
      "image/png": "[encoded data removed]",
      "text/plain": [
       "<Figure size 1000x800 with 1 Axes>"
      ]
     },
     "metadata": {},
     "output_type": "display_data"
    }
   ],
   "source": [
    "###speed comparison of original vs numba \n",
    "plt.figure(figsize=(10, 8))\n",
    "\n",
    "plt.plot(rr / factor, results_original_code, '-o', label='original')\n",
    "plt.plot(rr / factor, results_compiled_code, '-o', label='numba compiled')\n",
    "\n",
    "plt.xlabel(f'number of iterations, x{int(factor)}', fontsize=14)\n",
    "plt.ylabel('time', fontsize=14)\n",
    "\n",
    "plt.yscale('log')\n",
    "plt.xscale('log')\n",
    "\n",
    "plt.legend(fontsize=14)\n",
    "plt.grid()\n",
    "plt.show()"
   ]
  },
  {
   "cell_type": "code",
   "execution_count": null,
   "metadata": {},
   "outputs": [],
   "source": [
    "results_original_code / results_compiled_code"
   ]
  },
  {
   "cell_type": "markdown",
   "metadata": {},
   "source": [
    "## N-Body problems\n",
    "\n",
    "Many physical problems require the evaluation of all pairwise interactions of a large number of particles, so-called N-body problems. These problems arise in molecular dynamics, astrodynamics and electromagnetics among others. \n",
    "\n",
    "Their pairwise interactions can be expressed as:\n",
    "\n",
    "\\begin{equation}\n",
    "f_i = \\sum_{j=1}^n{P \\left(\\boldsymbol{x}_i, \\boldsymbol{x}_j \\right)w_j} \\ \\ \\ \\text{for } i=1,2,...,n \n",
    "\\end{equation}\n",
    "\n",
    "*  where subscripts $i$,  $j$ respectively denote *target* and *source*\n",
    "*  $f_i$ can be a *potential* (or *force*) at target point $i$\n",
    "*  $w_j$ is the *source weight* \n",
    "*  $\\boldsymbol{x}_i, \\boldsymbol{x}_j$ are the *spatial positions* of particles \n",
    "*  $P \\left(\\boldsymbol{x}_i, \\boldsymbol{x}_j \\right)$ is the *interaction kernel*. \n",
    "\n",
    "In order to evalute the potential $f_i$ at a target point $i$, we have to loop over each source particle $j$. Since there are $n$ target points $i$, this 'brute-force' approach costs $\\mathcal{O} \\left(n^2 \\right)$ operations. \n",
    "\n",
    "One possible approach in this kind of problem is to define a few classes, say `Point` and `Particle` and then loop over the objects and perform the necessary point-to-point calculations."
   ]
  },
  {
   "cell_type": "code",
   "execution_count": 7,
   "metadata": {},
   "outputs": [],
   "source": [
    "import numpy"
   ]
  },
  {
   "cell_type": "code",
   "execution_count": 8,
   "metadata": {},
   "outputs": [],
   "source": [
    "class Point():\n",
    "    \"\"\"    \n",
    "    Arguments:\n",
    "        domain: the domain of random generated coordinates x,y,z, \n",
    "                default=1.0\n",
    "    \n",
    "    Attributes:\n",
    "        x, y, z: coordinates of the point\n",
    "    \"\"\"\n",
    "    def __init__(self, domain=1.0):\n",
    "        self.x = domain * numpy.random.random()\n",
    "        self.y = domain * numpy.random.random()\n",
    "        self.z = domain * numpy.random.random()\n",
    "            \n",
    "    def distance(self, other):\n",
    "        return ((self.x - other.x)**2 + \n",
    "                (self.y - other.y)**2 + \n",
    "                (self.z - other.z)**2)**.5"
   ]
  },
  {
   "cell_type": "code",
   "execution_count": 9,
   "metadata": {},
   "outputs": [],
   "source": [
    "class Particle(Point):\n",
    "    \"\"\"    \n",
    "    Attributes:\n",
    "        m: mass of the particle\n",
    "        phi: the potential of the particle\n",
    "    \"\"\"\n",
    "    \n",
    "    def __init__(self, domain=1.0, m=1.0):\n",
    "        Point.__init__(self, domain)\n",
    "        self.m = m\n",
    "        self.phi = 0."
   ]
  },
  {
   "cell_type": "code",
   "execution_count": 10,
   "metadata": {},
   "outputs": [],
   "source": [
    "\n",
    "def create_n_random_particles(n, m, domain=1.0):\n",
    "    return [Particle(domain, m) for _ in range(n)]"
   ]
  },
  {
   "cell_type": "markdown",
   "metadata": {},
   "source": [
    "Now we create a list of `n` random particles, define a function to calculate their interaction via direct summation and run!"
   ]
  },
  {
   "cell_type": "code",
   "execution_count": 11,
   "metadata": {},
   "outputs": [],
   "source": [
    "n = 1000\n",
    "particles = [Particle(m = 1 / n) for i in range(n)]"
   ]
  },
  {
   "cell_type": "code",
   "execution_count": 12,
   "metadata": {},
   "outputs": [],
   "source": [
    "def direct_sum(particles):\n",
    "    \"\"\"\n",
    "    Calculate the potential at each particle\n",
    "    using direct summation method.\n",
    "\n",
    "    Arguments:\n",
    "        particles: the list of particles\n",
    "\n",
    "    \"\"\"\n",
    "    for i, target in enumerate(particles):\n",
    "        for source in (particles[:i] + particles[i+1:]):\n",
    "            r = target.distance(source)\n",
    "            target.phi += source.m / r"
   ]
  },
  {
   "cell_type": "code",
   "execution_count": 13,
   "metadata": {},
   "outputs": [
    {
     "name": "stdout",
     "output_type": "stream",
     "text": [
      "CPU times: user 811 ms, sys: 0 ns, total: 811 ms\n",
      "Wall time: 814 ms\n"
     ]
    }
   ],
   "source": [
    "%%time\n",
    "direct_sum(particles)"
   ]
  },
  {
   "cell_type": "code",
   "execution_count": 14,
   "metadata": {},
   "outputs": [
    {
     "name": "stdout",
     "output_type": "stream",
     "text": [
      "799 ms ± 7.34 ms per loop (mean ± std. dev. of 7 runs, 1 loop each)\n"
     ]
    }
   ],
   "source": [
    "orig_time = %timeit -o direct_sum(particles)"
   ]
  },
  {
   "cell_type": "code",
   "execution_count": 16,
   "metadata": {},
   "outputs": [
    {
     "name": "stdout",
     "output_type": "stream",
     "text": [
      "Collecting line_profiler\n",
      "  Downloading line_profiler-4.0.2-cp38-cp38-manylinux_2_17_x86_64.manylinux2014_x86_64.whl (673 kB)\n",
      "\u001b[2K     \u001b[38;2;114;156;31m━━━━━━━━━━━━━━━━━━━━━━━━━━━━━━━━━━━━━━━\u001b[0m \u001b[32m673.6/673.6 kB\u001b[0m \u001b[31m4.9 MB/s\u001b[0m eta \u001b[36m0:00:00\u001b[0m[31m4.9 MB/s\u001b[0m eta \u001b[36m0:00:01\u001b[0m\n",
      "\u001b[?25hInstalling collected packages: line_profiler\n",
      "Successfully installed line_profiler-4.0.2\n"
     ]
    }
   ],
   "source": [
    "!pip install line_profiler"
   ]
  },
  {
   "cell_type": "code",
   "execution_count": 17,
   "metadata": {},
   "outputs": [],
   "source": [
    "%load_ext line_profiler"
   ]
  },
  {
   "cell_type": "code",
   "execution_count": 18,
   "metadata": {},
   "outputs": [],
   "source": [
    "%lprun -f direct_sum direct_sum(particles)"
   ]
  },
  {
   "cell_type": "markdown",
   "metadata": {},
   "source": [
    "## How do we use Numba on this problem?\n",
    "Problem: Numba doesn't support jitting native Python classes.  There is a `jit_class` structure in Numba but it's still in early development.\n",
    "\n",
    "But it's nice to have attributes for literate programming.\n",
    "\n",
    "Solution: NumPy custom dtypes."
   ]
  },
  {
   "cell_type": "code",
   "execution_count": 19,
   "metadata": {},
   "outputs": [],
   "source": [
    "particle_dtype = numpy.dtype({'names':['x','y','z','m','phi'], \n",
    "                             'formats':[numpy.double, \n",
    "                                        numpy.double, \n",
    "                                        numpy.double, \n",
    "                                        numpy.double, \n",
    "                                        numpy.double]})"
   ]
  },
  {
   "cell_type": "code",
   "execution_count": 20,
   "metadata": {},
   "outputs": [],
   "source": [
    "myarray = numpy.ones(3, dtype=particle_dtype)"
   ]
  },
  {
   "cell_type": "code",
   "execution_count": 21,
   "metadata": {},
   "outputs": [
    {
     "data": {
      "text/plain": [
       "array([(1., 1., 1., 1., 1.), (1., 1., 1., 1., 1.), (1., 1., 1., 1., 1.)],\n",
       "      dtype=[('x', '<f8'), ('y', '<f8'), ('z', '<f8'), ('m', '<f8'), ('phi', '<f8')])"
      ]
     },
     "execution_count": 21,
     "metadata": {},
     "output_type": "execute_result"
    }
   ],
   "source": [
    "myarray"
   ]
  },
  {
   "cell_type": "code",
   "execution_count": 22,
   "metadata": {},
   "outputs": [],
   "source": [
    "myarray[0]['x'] = 2.0"
   ]
  },
  {
   "cell_type": "code",
   "execution_count": 23,
   "metadata": {},
   "outputs": [
    {
     "data": {
      "text/plain": [
       "array([(2., 1., 1., 1., 1.), (1., 1., 1., 1., 1.), (1., 1., 1., 1., 1.)],\n",
       "      dtype=[('x', '<f8'), ('y', '<f8'), ('z', '<f8'), ('m', '<f8'), ('phi', '<f8')])"
      ]
     },
     "execution_count": 23,
     "metadata": {},
     "output_type": "execute_result"
    }
   ],
   "source": [
    "myarray"
   ]
  },
  {
   "cell_type": "markdown",
   "metadata": {},
   "source": [
    "### Exercise 1\n",
    "\n",
    "Write a function `create_n_random_particles` that takes the arguments `n` (number of particles), `m` (mass of every particle) and a domain within to generate a random number (as in the class above).\n",
    "It should create an array with `n` elements and `dtype=particle_dtype` and then return that array.\n",
    "\n",
    "For each particle, the mass should be initialized to the value of `m` and the potential `phi` initialized to zero.\n",
    "\n",
    "For the `x` component of a given particle `p`, you might do something like\n",
    "\n",
    "```python\n",
    "p['x'] = domain * numpy.random.random()\n",
    "```"
   ]
  },
  {
   "cell_type": "code",
   "execution_count": 34,
   "metadata": {},
   "outputs": [],
   "source": [
    "@njit\n",
    "def create_n_random_particles(n, m, domain=1.0):\n",
    "    '''\n",
    "    Creates `n` particles with mass `m` with random coordinates\n",
    "    between 0 and `domain`\n",
    "    '''\n",
    "    particles = np.zeros((n), dtype=particle_dtype)\n",
    "\n",
    "    for particle in particles:\n",
    "        particle['x'] = domain * np.random.random()\n",
    "        particle['y'] = domain * np.random.random()\n",
    "        particle['z'] = domain * np.random.random()\n",
    "\n",
    "        particle['m'] = m\n",
    "\n",
    "    return particles"
   ]
  },
  {
   "cell_type": "code",
   "execution_count": 36,
   "metadata": {},
   "outputs": [],
   "source": [
    "# test it\n",
    "parts = create_n_random_particles(1000, .001, 1)"
   ]
  },
  {
   "cell_type": "markdown",
   "metadata": {},
   "source": [
    "### Exercise 2\n",
    "\n",
    "Write a JITted function `distance` to calculate the distance between two particles of dtype `particle_dtype`\n",
    "\n",
    "Here's the `distance` method from the `Particle` class as a reference:\n",
    "\n",
    "```python\n",
    "def distance(self, other):\n",
    "        return ((self.x - other.x)**2 + \n",
    "                (self.y - other.y)**2 + \n",
    "                (self.z - other.z)**2)**.5\n",
    "```"
   ]
  },
  {
   "cell_type": "code",
   "execution_count": 37,
   "metadata": {},
   "outputs": [],
   "source": [
    "@njit\n",
    "def distance(particle_1, particle_2):\n",
    "    '''calculate the distance between two particles'''\n",
    "    \n",
    "    return ((particle_1['x'] - particle_2['x'])**2 + \n",
    "            (particle_1['y'] - particle_2['y'])**2 + \n",
    "            (particle_1['z'] - particle_2['z'])**2)**.5"
   ]
  },
  {
   "cell_type": "code",
   "execution_count": 38,
   "metadata": {},
   "outputs": [
    {
     "data": {
      "text/plain": [
       "0.6441013733403308"
      ]
     },
     "execution_count": 38,
     "metadata": {},
     "output_type": "execute_result"
    }
   ],
   "source": [
    "# test it\n",
    "\n",
    "distance(parts[0], parts[1])"
   ]
  },
  {
   "cell_type": "markdown",
   "metadata": {},
   "source": [
    "### Exercise 3\n",
    "Modify the original `direct_sum` function (copied below for reference) to instead work a NumPy array of particles.  Loop over each element in the array and calculate its total potential.\n",
    "\n",
    "```python\n",
    "def direct_sum(particles):\n",
    "    \"\"\"\n",
    "    Calculate the potential at each particle\n",
    "    using direct summation method.\n",
    "\n",
    "    Arguments:\n",
    "        particles: the list of particles\n",
    "\n",
    "    \"\"\"\n",
    "    for i, target in enumerate(particles):\n",
    "        for source in (particles[:i] + particles[i+1:]):\n",
    "            r = target.distance(source)\n",
    "            target.phi += source.m / r"
   ]
  },
  {
   "cell_type": "code",
   "execution_count": 39,
   "metadata": {},
   "outputs": [],
   "source": [
    "@njit\n",
    "def direct_sum(particles):\n",
    "    for i, target in enumerate(particles):\n",
    "        for j, source in enumerate(particles):\n",
    "            if j != i:\n",
    "                r = distance(target, source)\n",
    "                target['phi'] += source['m'] / r"
   ]
  },
  {
   "cell_type": "code",
   "execution_count": 40,
   "metadata": {},
   "outputs": [
    {
     "name": "stdout",
     "output_type": "stream",
     "text": [
      "CPU times: user 168 ms, sys: 11.1 ms, total: 179 ms\n",
      "Wall time: 178 ms\n"
     ]
    }
   ],
   "source": [
    "%%time\n",
    "direct_sum(particles) # this code also serves for compilation"
   ]
  },
  {
   "cell_type": "code",
   "execution_count": 41,
   "metadata": {},
   "outputs": [
    {
     "name": "stdout",
     "output_type": "stream",
     "text": [
      "302 µs ± 16.4 µs per loop (mean ± std. dev. of 7 runs, 1 loop each)\n",
      "1.24 ms ± 99.8 µs per loop (mean ± std. dev. of 7 runs, 1 loop each)\n",
      "4.8 ms ± 140 µs per loop (mean ± std. dev. of 7 runs, 1 loop each)\n",
      "18.7 ms ± 107 µs per loop (mean ± std. dev. of 7 runs, 1 loop each)\n",
      "91.8 ms ± 14.6 ms per loop (mean ± std. dev. of 7 runs, 1 loop each)\n"
     ]
    }
   ],
   "source": [
    "nn = np.logspace(8, 12, 5, base=2).astype(int)\n",
    "results_compiled_code = []\n",
    "\n",
    "for n in nn:\n",
    "    m = 1 / n # for instance\n",
    "    particles = create_n_random_particles(n, m)\n",
    "    results = %timeit -n 1 -o direct_sum(particles)\n",
    "\n",
    "    results_compiled_code.append(results.best)\n",
    "\n",
    "results_compiled_code = np.array(results_compiled_code)"
   ]
  },
  {
   "cell_type": "code",
   "execution_count": 47,
   "metadata": {
    "slideshow": {
     "slide_type": "slide"
    }
   },
   "outputs": [],
   "source": [
    "# Compare code of origional vs numba"
   ]
  },
  {
   "cell_type": "code",
   "execution_count": 88,
   "metadata": {},
   "outputs": [
    {
     "data": {
      "image/png": "[encoded data removed]",
      "text/plain": [
       "<Figure size 1000x800 with 1 Axes>"
      ]
     },
     "metadata": {},
     "output_type": "display_data"
    }
   ],
   "source": [
    "plt.figure(figsize=(10, 8))\n",
    "\n",
    "plt.plot(nn, results_original_code, '-o', label='original')\n",
    "plt.plot(nn, results_compiled_code, '-o', label='numba compiled')\n",
    "\n",
    "plt.xlabel('number of iterations', fontsize=14)\n",
    "plt.ylabel('time', fontsize=14)\n",
    "\n",
    "plt.yscale('log')\n",
    "plt.xscale('log')\n",
    "\n",
    "plt.legend(fontsize=14)\n",
    "plt.grid()\n",
    "plt.show()"
   ]
  },
  {
   "cell_type": "code",
   "execution_count": null,
   "metadata": {},
   "outputs": [],
   "source": []
  }
 ],
 "metadata": {
  "celltoolbar": "Slideshow",
  "kernelspec": {
   "display_name": "Python 3 (ipykernel)",
   "language": "python",
   "name": "python3"
  },
  "language_info": {
   "codemirror_mode": {
    "name": "ipython",
    "version": 3
   },
   "file_extension": ".py",
   "mimetype": "text/x-python",
   "name": "python",
   "nbconvert_exporter": "python",
   "pygments_lexer": "ipython3",
   "version": "3.8.10"
  }
 },
 "nbformat": 4,
 "nbformat_minor": 2
}
