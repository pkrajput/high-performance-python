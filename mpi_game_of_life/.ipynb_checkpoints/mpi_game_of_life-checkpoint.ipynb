{
 "cells": [
  {
   "cell_type": "code",
   "execution_count": 1,
   "metadata": {
    "id": "qc_SVeNCQtAI"
   },
   "outputs": [],
   "source": [
    "import numpy as np\n",
    "import matplotlib.pyplot as plt"
   ]
  },
  {
   "cell_type": "code",
   "execution_count": 2,
   "metadata": {
    "id": "imwnebkORBWy"
   },
   "outputs": [],
   "source": [
    "from scipy.signal import correlate2d as conv2d\n",
    "\n",
    "def numpy_update(alive_map):\n",
    "    # Count neighbours with convolution\n",
    "    conv_kernel = np.array([[1,1,1],\n",
    "                            [1,0,1],\n",
    "                            [1,1,1]])\n",
    "    \n",
    "    num_alive_neighbors = conv2d(alive_map, conv_kernel, mode='same')\n",
    "    \n",
    "    # Apply game rules\n",
    "    born = np.logical_and(num_alive_neighbors == 3, alive_map == 0)\n",
    "    #print(born)\n",
    "    survived = np.logical_and(np.isin(num_alive_neighbors, [2,3]), alive_map == 1)\n",
    "    \n",
    "    #print(np.logical_or(born, survived))\n",
    "    np.copyto(alive_map, np.logical_or(born, survived))"
   ]
  },
  {
   "cell_type": "code",
   "execution_count": 3,
   "metadata": {
    "id": "PDyiuNUs3Upt"
   },
   "outputs": [],
   "source": [
    "%%bash \n",
    "mkdir demo"
   ]
  },
  {
   "cell_type": "markdown",
   "metadata": {
    "id": "AiKUhbwC4OiK"
   },
   "source": [
    "### 1. Implement Rule 110 sequentially and show resulted image and animation -- 2 pt"
   ]
  },
  {
   "cell_type": "code",
   "execution_count": 4,
   "metadata": {
    "colab": {
     "base_uri": "https://localhost:8080/",
     "height": 285
    },
    "id": "gozILeaYQ3R_",
    "outputId": "c497978b-cc0a-43eb-b9bc-0295a5635ded"
   },
   "outputs": [
    {
     "name": "stdout",
     "output_type": "stream",
     "text": [
      "time: 46.77610778808594\n"
     ]
    },
    {
     "data": {
      "image/png": "[encoded data removed]",
      "text/plain": [
       "<Figure size 432x288 with 1 Axes>"
      ]
     },
     "metadata": {
      "needs_background": "light"
     },
     "output_type": "display_data"
    }
   ],
   "source": [
    "from time import time\n",
    "# %matplotlib notebook\n",
    "# plt.ion()\n",
    "\n",
    "# initialize game field\n",
    "alive_map = np.random.choice([0, 1], size=(100, 100))\n",
    "\n",
    "fig = plt.figure()\n",
    "ax = fig.add_subplot(111)\n",
    "fig.show()\n",
    "\n",
    "\n",
    "start_random = []\n",
    "t = time()\n",
    "for i in range(300):\n",
    "    numpy_update(alive_map)\n",
    "    start_random.append(np.count_nonzero(alive_map == 1))\n",
    "    # re-draw image\n",
    "    ax.clear()\n",
    "    ax.imshow(alive_map, cmap='gray')\n",
    "    fig.canvas.draw()\n",
    "    fig.savefig('/content/demo/game' + str(i) + '.png')\n",
    "print('time:', time()-t)"
   ]
  },
  {
   "cell_type": "code",
   "execution_count": 5,
   "metadata": {
    "id": "x0sFxFse3_Qz"
   },
   "outputs": [],
   "source": [
    "import imageio\n",
    "images = []\n",
    "filenames = []\n",
    "\n",
    "for i in range(100):\n",
    "    name = '/content/demo/' + 'game' + str(i)  +'.png'\n",
    "    filenames.append(name)\n",
    "\n",
    "for filename in filenames:\n",
    "    images.append(imageio.imread(filename))\n",
    "\n",
    "imageio.mimsave('demo.gif', images)"
   ]
  },
  {
   "cell_type": "code",
   "execution_count": 6,
   "metadata": {
    "colab": {
     "base_uri": "https://localhost:8080/"
    },
    "id": "DmTUixyDR_Rh",
    "outputId": "a4f6c19b-6fe9-463f-dcdd-9b4dc04e1aee"
   },
   "outputs": [
    {
     "name": "stdout",
     "output_type": "stream",
     "text": [
      "Looking in indexes: https://pypi.org/simple, https://us-python.pkg.dev/colab-wheels/public/simple/\n",
      "Collecting mpi4py\n",
      "  Downloading mpi4py-3.1.4.tar.gz (2.5 MB)\n",
      "\u001b[K     |████████████████████████████████| 2.5 MB 8.4 MB/s \n",
      "\u001b[?25h  Installing build dependencies ... \u001b[?25l\u001b[?25hdone\n",
      "  Getting requirements to build wheel ... \u001b[?25l\u001b[?25hdone\n",
      "    Preparing wheel metadata ... \u001b[?25l\u001b[?25hdone\n",
      "Building wheels for collected packages: mpi4py\n",
      "  Building wheel for mpi4py (PEP 517) ... \u001b[?25l\u001b[?25hdone\n",
      "  Created wheel for mpi4py: filename=mpi4py-3.1.4-cp38-cp38-linux_x86_64.whl size=4438389 sha256=fd046ac0f9b96d8fb46d26bdcea3b00bcff0165ad7539097c1bbbcb8fb258e2c\n",
      "  Stored in directory: /root/.cache/pip/wheels/f3/35/48/0b9a7076995eea5ea64a7e4bc3f0f342f453080795276264e7\n",
      "Successfully built mpi4py\n",
      "Installing collected packages: mpi4py\n",
      "Successfully installed mpi4py-3.1.4\n"
     ]
    }
   ],
   "source": [
    "!pip install mpi4py"
   ]
  },
  {
   "cell_type": "code",
   "execution_count": 7,
   "metadata": {
    "id": "1NVEVGYayj7D"
   },
   "outputs": [],
   "source": [
    "%%bash \n",
    "mkdir game_mpi"
   ]
  },
  {
   "cell_type": "markdown",
   "metadata": {
    "id": "m2m0K-XZ4XdL"
   },
   "source": [
    "### 2. Provide a parallel implementation -- 2 pts\n",
    "\n",
    "### 3. Your parallel implementation runs for any number of MPI processors, regardless of the initial length -- 2 pts"
   ]
  },
  {
   "cell_type": "code",
   "execution_count": 8,
   "metadata": {
    "colab": {
     "base_uri": "https://localhost:8080/"
    },
    "id": "KUWvcgwRREli",
    "outputId": "f5a0385a-1fec-413c-c5cd-389123819b76"
   },
   "outputs": [
    {
     "name": "stdout",
     "output_type": "stream",
     "text": [
      "Writing game.py\n"
     ]
    }
   ],
   "source": [
    "%%writefile game.py\n",
    "\n",
    "from mpi4py import MPI\n",
    "import numpy as np\n",
    "import cv2\n",
    "import matplotlib.pyplot as plt\n",
    "import matplotlib\n",
    "import sys\n",
    "from scipy.signal import correlate2d as conv2d\n",
    "\n",
    "comm = MPI.COMM_WORLD\n",
    "size = comm.Get_size() \n",
    "rank = comm.Get_rank()\n",
    "\n",
    "def numpy_update(alive_map):\n",
    "    # Count neighbours with convolution\n",
    "    conv_kernel = np.array([[1,1,1],\n",
    "                            [1,0,1],\n",
    "                            [1,1,1]])\n",
    "    \n",
    "    num_alive_neighbors = conv2d(alive_map, conv_kernel, mode='same')\n",
    "    # Apply game rules\n",
    "    born = np.logical_and(num_alive_neighbors == 3, alive_map == 0)\n",
    "    survived = np.logical_and(np.isin(num_alive_neighbors, [2,3]), alive_map == 1)\n",
    "\n",
    "    np.copyto(alive_map, np.logical_or(born, survived))\n",
    "\n",
    "# initialize game field\n",
    "alive_map = np.random.choice([0, 1], size=(100, 100))\n",
    "\n",
    "x = np.array_split(alive_map,size,axis=1)[rank]\n",
    "step = 100\n",
    "\n",
    "for i in range(step):\n",
    "    if rank == 0:\n",
    "        #for i in range(step):\n",
    "            numpy_update(x)\n",
    "            comm.send(x[:,-1], dest = size-1)\n",
    "            x = np.delete(x,-1,axis=1)\n",
    "            xrec = comm.recv(source = size-1)\n",
    "            x = np.hstack((x,xrec.reshape(-1,1)))\n",
    "\n",
    "    if rank == size - 1:\n",
    "        #for i in range(step):\n",
    "            numpy_update(x)\n",
    "            comm.send(x[:,-1], dest = 0)\n",
    "            x = np.delete(x,-1,axis=1)\n",
    "            xrec = comm.recv(source = 0)\n",
    "            #print('ddd =', xrec.reshape(-1).shape)\n",
    "            x = np.hstack((x,xrec.reshape(-1,1)))\n",
    "            #print(x.shape)\n",
    "\n",
    "    gathedata =  comm.gather(x,root=0)\n",
    "    if not rank:\n",
    "        new_im = np.hstack(gathedata)\n",
    "        plt.imsave('game_mpi/game' + str(i) + '.png',new_im)"
   ]
  },
  {
   "cell_type": "code",
   "execution_count": 9,
   "metadata": {
    "colab": {
     "base_uri": "https://localhost:8080/"
    },
    "id": "GXmYKHV4Rwv_",
    "outputId": "c562948d-37ba-426d-9c2a-9b63960c5518"
   },
   "outputs": [
    {
     "name": "stdout",
     "output_type": "stream",
     "text": [
      "time: 3.9321794509887695\n"
     ]
    }
   ],
   "source": [
    "from time import time\n",
    "t = time()\n",
    "!mpirun --allow-run-as-root -n 2 python game.py\n",
    "print('time:', time()-t)"
   ]
  },
  {
   "cell_type": "code",
   "execution_count": 10,
   "metadata": {
    "id": "83cxzRgQ15Px"
   },
   "outputs": [],
   "source": [
    "import imageio\n",
    "images = []\n",
    "filenames = []\n",
    "\n",
    "for i in range(100):\n",
    "    name = '/content/game_mpi/' + 'game' + str(i)  +'.png'\n",
    "    filenames.append(name)\n",
    "\n",
    "for filename in filenames:\n",
    "    images.append(imageio.imread(filename))\n",
    "\n",
    "imageio.mimsave('game_mpi.gif', images)"
   ]
  },
  {
   "cell_type": "code",
   "execution_count": 11,
   "metadata": {
    "id": "VuefZu8S2v0U"
   },
   "outputs": [],
   "source": [
    "%%bash \n",
    "mkdir game_start1"
   ]
  },
  {
   "cell_type": "markdown",
   "metadata": {
    "id": "hm9aV1hS5uDQ"
   },
   "source": [
    "### 5. Try one initial condition of your choice -- 1 pts"
   ]
  },
  {
   "cell_type": "code",
   "execution_count": 13,
   "metadata": {
    "colab": {
     "base_uri": "https://localhost:8080/",
     "height": 232
    },
    "id": "ZJGTWYWtRwyy",
    "outputId": "b35c87e7-fd67-4fe9-8b44-b107a6ba149a"
   },
   "outputs": [
    {
     "name": "stdout",
     "output_type": "stream",
     "text": [
      "time: 35.90165972709656\n"
     ]
    },
    {
     "data": {
      "image/png": "[encoded data removed]",
      "text/plain": [
       "<Figure size 432x288 with 1 Axes>"
      ]
     },
     "metadata": {
      "needs_background": "light"
     },
     "output_type": "display_data"
    }
   ],
   "source": [
    "# initialize game field\n",
    "alive_map = np.array([[0,0,0,0,0,0,0,0,0,0,0,0,0,0,0,0,0,0,0,0,0,0,0,0,1,0,0,0,0,0,0,0,0,0,0,0],\n",
    " [0,0,0,0,0,0,0,0,0,0,0,0,0,0,0,0,0,0,0,0,0,0,1,0,1,0,0,0,0,0,0,0,0,0,0,0],\n",
    " [0,0,0,0,0,0,0,0,0,0,0,0,1,1,0,0,0,0,0,0,1,1,0,0,0,0,0,0,0,0,0,0,0,0,1,1],\n",
    " [0,0,0,0,0,0,0,0,0,0,0,1,0,0,0,1,0,0,0,0,1,1,0,0,0,0,0,0,0,0,0,0,0,0,1,1],\n",
    " [1,1,0,0,0,0,0,0,0,0,1,0,0,0,0,0,1,0,0,0,1,1,0,0,0,0,0,0,0,0,0,0,0,0,0,0],\n",
    " [1,1,0,0,0,0,0,0,0,0,1,0,0,0,1,0,1,1,0,0,0,0,1,0,1,0,0,0,0,0,0,0,0,0,0,0],\n",
    " [0,0,0,0,0,0,0,0,0,0,1,0,0,0,0,0,1,0,0,0,0,0,0,0,1,0,0,0,0,0,0,0,0,0,0,0],\n",
    " [0,0,0,0,0,0,0,0,0,0,0,1,0,0,0,1,0,0,0,0,0,0,0,0,0,0,0,0,0,0,0,0,0,0,0,0],\n",
    " [0,0,0,0,0,0,0,0,0,0,0,0,1,1,0,0,0,0,0,0,0,0,0,0,0,0,0,0,0,0,0,0,0,0,0,0],\n",
    "                      \n",
    "  [0,0,0,0,0,0,0,0,0,0,0,0,0,0,0,0,0,0,0,0,0,0,0,0,0,0,0,0,0,0,0,0,0,0,0,0],\n",
    " [0,0,0,0,0,0,0,0,0,0,0,0,0,0,0,0,0,0,0,0,0,0,0,0,0,0,0,0,0,0,0,0,0,0,0,0],\n",
    " [0,0,0,0,0,0,0,0,0,0,0,0,0,0,0,0,0,0,0,0,0,1,0,0,0,0,0,0,0,0,0,0,0,0,1,1],\n",
    " [0,0,0,0,0,0,0,0,0,0,0,0,0,0,0,1,0,0,0,0,0,1,0,0,0,0,0,0,0,0,0,0,0,0,1,1],\n",
    " [1,1,0,0,0,0,0,0,0,0,0,0,0,0,0,0,0,0,0,0,0,0,0,0,0,0,0,0,0,0,0,0,0,0,0,0],\n",
    " [1,1,0,0,0,0,0,0,0,0,0,0,0,0,1,0,1,1,0,0,0,0,1,0,1,0,0,0,0,0,0,0,0,0,0,0],\n",
    " [0,0,0,0,0,0,0,0,0,0,1,0,0,0,0,0,1,0,0,0,0,0,0,0,1,0,0,0,0,0,0,0,0,0,0,0],\n",
    " [0,0,0,0,0,0,0,0,0,0,0,1,0,0,0,1,0,0,0,0,0,0,0,0,0,0,0,0,0,0,0,0,0,0,0,0],\n",
    " [0,0,0,0,0,0,0,0,0,0,0,0,0,1,0,0,0,0,0,0,0,0,0,0,0,0,0,0,0,0,0,0,0,0,0,0]])\n",
    "\n",
    "fig = plt.figure()\n",
    "ax = fig.add_subplot(111)\n",
    "fig.show()\n",
    "\n",
    "start_1 = []\n",
    "t = time()\n",
    "for i in range(300):\n",
    "    numpy_update(alive_map)\n",
    "    start_1.append(np.count_nonzero(alive_map == 1))\n",
    "    # re-draw image\n",
    "    ax.clear()\n",
    "    ax.imshow(alive_map, cmap='gray')\n",
    "    fig.canvas.draw()\n",
    "    fig.savefig('game_start1/game' + str(i) + '.png')\n",
    "print('time:', time()-t)"
   ]
  },
  {
   "cell_type": "code",
   "execution_count": 14,
   "metadata": {
    "id": "PFPWIYqx4wCg"
   },
   "outputs": [],
   "source": [
    "images = []\n",
    "filenames = []\n",
    "\n",
    "for i in range(300):\n",
    "    name = '/content/game_start1/' + 'game' + str(i)  +'.png'\n",
    "    filenames.append(name)\n",
    "\n",
    "for filename in filenames:\n",
    "    images.append(imageio.imread(filename))\n",
    "\n",
    "imageio.mimsave('game_start_1.gif', images)"
   ]
  },
  {
   "cell_type": "code",
   "execution_count": 15,
   "metadata": {
    "id": "0IeKSrn95RYv"
   },
   "outputs": [],
   "source": [
    "%%bash \n",
    "mkdir game_start2"
   ]
  },
  {
   "cell_type": "markdown",
   "metadata": {
    "id": "S0XSpTef7U_S"
   },
   "source": [
    "### 6. Plot the number of the living cells vs time for the given initial condition and for the one you have chosen -- 1 pts"
   ]
  },
  {
   "cell_type": "code",
   "execution_count": 16,
   "metadata": {
    "colab": {
     "base_uri": "https://localhost:8080/",
     "height": 268
    },
    "id": "AKSEPiBGzLlS",
    "outputId": "d08b20d2-0737-4906-a1bd-c31ebaa986fa"
   },
   "outputs": [
    {
     "data": {
      "image/png": "[encoded data removed]",
      "text/plain": [
       "<Figure size 432x288 with 1 Axes>"
      ]
     },
     "metadata": {
      "needs_background": "light"
     },
     "output_type": "display_data"
    }
   ],
   "source": [
    "alive_map = np.arange(100) % 2 + np.zeros([100, 100])\n",
    "alive_map[48:52, 50] = 1\n",
    "\n",
    "fig = plt.figure()\n",
    "ax = fig.add_subplot(111)\n",
    "fig.show()\n",
    "\n",
    "start_2 = []\n",
    "for i in range(300):\n",
    "    numpy_update(alive_map)\n",
    "    start_2.append(np.count_nonzero(alive_map == 1))\n",
    "    ax.clear()\n",
    "    ax.imshow(alive_map, cmap='gray')\n",
    "    fig.canvas.draw()\n",
    "    fig.savefig('game_start2/game' + str(i) + '.png')"
   ]
  },
  {
   "cell_type": "code",
   "execution_count": 17,
   "metadata": {
    "id": "kzeys_Tz5fhK"
   },
   "outputs": [],
   "source": [
    "images = []\n",
    "filenames = []\n",
    "\n",
    "for i in range(300):\n",
    "    name = '/content/game_start2/' + 'game' + str(i)  +'.png'\n",
    "    filenames.append(name)\n",
    "\n",
    "for filename in filenames:\n",
    "    images.append(imageio.imread(filename))\n",
    "\n",
    "imageio.mimsave('game_start_2.gif', images)"
   ]
  },
  {
   "cell_type": "code",
   "execution_count": 18,
   "metadata": {
    "colab": {
     "base_uri": "https://localhost:8080/",
     "height": 279
    },
    "id": "ul6I17bA0Axn",
    "outputId": "d6b3cf99-1125-49ab-d3e9-0f6044175208"
   },
   "outputs": [
    {
     "data": {
      "image/png": "[encoded data removed]",
      "text/plain": [
       "<Figure size 432x288 with 1 Axes>"
      ]
     },
     "metadata": {
      "needs_background": "light"
     },
     "output_type": "display_data"
    }
   ],
   "source": [
    "# %matplotlib notebook\n",
    "plt.plot(start_random, label = 'random')\n",
    "plt.plot(start_1, label = 'custom_start_1')\n",
    "plt.plot(start_2, label = 'custom_start_2')\n",
    "\n",
    "plt.legend()\n",
    "plt.xlabel('number of iteration')\n",
    "plt.ylabel('number of living cells')\n",
    "plt.show()   \n"
   ]
  },
  {
   "cell_type": "code",
   "execution_count": null,
   "metadata": {
    "id": "GuR4-7Fp0OOE"
   },
   "outputs": [],
   "source": []
  }
 ],
 "metadata": {
  "colab": {
   "provenance": []
  },
  "kernelspec": {
   "display_name": "Python 3 (ipykernel)",
   "language": "python",
   "name": "python3"
  },
  "language_info": {
   "codemirror_mode": {
    "name": "ipython",
    "version": 3
   },
   "file_extension": ".py",
   "mimetype": "text/x-python",
   "name": "python",
   "nbconvert_exporter": "python",
   "pygments_lexer": "ipython3",
   "version": "3.8.10"
  }
 },
 "nbformat": 4,
 "nbformat_minor": 1
}
