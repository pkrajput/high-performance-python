{
 "cells": [
  {
   "cell_type": "code",
   "execution_count": 1,
   "metadata": {
    "colab": {
     "base_uri": "https://localhost:8080/"
    },
    "id": "jHClpGKYYczP",
    "outputId": "ff38942e-9c1b-4e15-8345-529fca1cc6d2"
   },
   "outputs": [
    {
     "name": "stdout",
     "output_type": "stream",
     "text": [
      "Looking in indexes: https://pypi.org/simple, https://us-python.pkg.dev/colab-wheels/public/simple/\n",
      "Collecting mpi4py\n",
      "  Downloading mpi4py-3.1.4.tar.gz (2.5 MB)\n",
      "\u001b[K     |████████████████████████████████| 2.5 MB 26.5 MB/s \n",
      "\u001b[?25h  Installing build dependencies ... \u001b[?25l\u001b[?25hdone\n",
      "  Getting requirements to build wheel ... \u001b[?25l\u001b[?25hdone\n",
      "    Preparing wheel metadata ... \u001b[?25l\u001b[?25hdone\n",
      "Building wheels for collected packages: mpi4py\n",
      "  Building wheel for mpi4py (PEP 517) ... \u001b[?25l\u001b[?25hdone\n",
      "  Created wheel for mpi4py: filename=mpi4py-3.1.4-cp37-cp37m-linux_x86_64.whl size=2185786 sha256=57a0cc2feb87d7f25609b78727e7842af3a1f50df33fb7119953934d1d6d15b2\n",
      "  Stored in directory: /root/.cache/pip/wheels/99/54/29/187b5768bbb7beeab6753bc30acf56f35bc8ca9c214a31e173\n",
      "Successfully built mpi4py\n",
      "Installing collected packages: mpi4py\n",
      "Successfully installed mpi4py-3.1.4\n"
     ]
    }
   ],
   "source": [
    "!pip install mpi4py"
   ]
  },
  {
   "cell_type": "code",
   "execution_count": 2,
   "metadata": {
    "colab": {
     "base_uri": "https://localhost:8080/"
    },
    "id": "HNrWUxLtYu9a",
    "outputId": "d4380710-145f-49a5-d5ef-abb65fc08aac"
   },
   "outputs": [
    {
     "name": "stdout",
     "output_type": "stream",
     "text": [
      "Writing mpi_bifurcation.py\n"
     ]
    }
   ],
   "source": [
    "%%writefile mpi_bifurcation.py\n",
    "\n",
    "import matplotlib.pyplot as plt\n",
    "from mpi4py import MPI\n",
    "import numpy as np\n",
    "import warnings\n",
    "import os\n",
    "warnings.filterwarnings('ignore')\n",
    "\n",
    "comm = MPI.COMM_WORLD\n",
    "rank = comm.Get_rank()\n",
    "size = comm.Get_size()\n",
    "\n",
    "step_count = np.power(10, 3)\n",
    "x_initial_state = 0.1\n",
    "r_slices = np.power(10 ,2)\n",
    "\n",
    "r_range = np.linspace(1, 10, r_slices)\n",
    "\n",
    "def get_next_step(r, x):\n",
    "    return r * x * (1. - x)\n",
    "\n",
    "size_per_rank = int(r_slices / size)\n",
    "\n",
    "\n",
    "\n",
    "if rank == size - 1:\n",
    "  size_per_rank += r_slices % size\n",
    "  left_limit, right_limit = rank * size_per_rank, r_slices - 1\n",
    "\n",
    "else:\n",
    "  left_limit, right_limit = rank * size_per_rank, (rank + 1) * size_per_rank\n",
    "\n",
    "iter_data = np.empty([size_per_rank, r_slices])\n",
    "\n",
    "\n",
    "\n",
    "\n",
    "for i, r in enumerate(r_range[left_limit: right_limit]):\n",
    "  x = [x_initial_state]\n",
    "  for _ in range(step_count):\n",
    "      x.append(get_next_step(r, x[-1]))\n",
    "      \n",
    "  iter_data[i] = x[500: 500 + r_slices]\n",
    "\n",
    "iter_data = comm.gather((iter_data, rank) if size > 1 else iter_data, root=0)\n",
    "\n",
    "MPI.Finalize()\n",
    "\n",
    "\n",
    "\n",
    "if rank == 0:\n",
    "  if size > 1:\n",
    "    iter_data.sort(key = lambda tup: tup[1])\n",
    "    iter_data = np.array(iter_data)[:, :-1].squeeze()\n",
    "    iter_data = np.concatenate(iter_data, axis=0)\n",
    "  else:\n",
    "    iter_data = np.array(iter_data).squeeze()\n",
    "    \n",
    "  fig, ax = plt.subplots(figsize=(10, 8))\n",
    "\n",
    "  fig.set_facecolor('red')\n",
    "\n",
    "  ax.axis([min(r_range), 5, 0, 1 + 0.1])\n",
    "  ax.set_facecolor('blue')\n",
    "\n",
    "  ax.set_xlabel('r')\n",
    "  ax.set_ylabel('population equlibrium')\n",
    "  l, = ax.plot([], [], '.', color='green')\n",
    "\n",
    "  t = [r * np.ones(iter_data.shape[0]) for r in r_range]\n",
    "  \n",
    "  dir_name = 'gif_pics'\n",
    "  \n",
    "  os.system(f'rm -rf {dir_name}')\n",
    "  os.mkdir(dir_name)\n",
    "\n",
    "  images = []\n",
    "\n",
    "  for i, _ in enumerate(t):\n",
    "      index = str(i).zfill(4)\n",
    "      imgname = f'{dir_name}/bif_pic_{index}' \n",
    "      images.append(imgname)\n",
    "\n",
    "      ax.scatter(t[:i], iter_data[:i], c='yellow')\n",
    "      plt.savefig(images[-1])"
   ]
  },
  {
   "cell_type": "code",
   "execution_count": 3,
   "metadata": {
    "id": "U5Ms66CSpYOb"
   },
   "outputs": [],
   "source": [
    "!mpirun --allow-run-as-root -n 30 python mpi_bifurcation.py"
   ]
  },
  {
   "cell_type": "code",
   "execution_count": 10,
   "metadata": {
    "colab": {
     "base_uri": "https://localhost:8080/"
    },
    "id": "0yxID0r_5cyr",
    "outputId": "a0fe11bf-9e9c-4e88-b0d4-bcde1d15acff"
   },
   "outputs": [
    {
     "name": "stdout",
     "output_type": "stream",
     "text": [
      "Reading package lists... Done\n",
      "Building dependency tree       \n",
      "Reading state information... Done\n",
      "The following package was automatically installed and is no longer required:\n",
      "  libnvidia-common-460\n",
      "Use 'apt autoremove' to remove it.\n",
      "The following additional packages will be installed:\n",
      "  fonts-droid-fallback fonts-noto-mono ghostscript gsfonts\n",
      "  imagemagick-6-common imagemagick-6.q16 libcupsfilters1 libcupsimage2\n",
      "  libdjvulibre-text libdjvulibre21 libgs9 libgs9-common libijs-0.35\n",
      "  libjbig2dec0 liblqr-1-0 libmagickcore-6.q16-3 libmagickcore-6.q16-3-extra\n",
      "  libmagickwand-6.q16-3 libnetpbm10 libwmf0.2-7 netpbm poppler-data\n",
      "Suggested packages:\n",
      "  fonts-noto ghostscript-x imagemagick-doc autotrace cups-bsd | lpr | lprng\n",
      "  enscript gimp gnuplot grads hp2xx html2ps libwmf-bin mplayer povray radiance\n",
      "  sane-utils texlive-base-bin transfig ufraw-batch inkscape libjxr-tools\n",
      "  libwmf0.2-7-gtk poppler-utils fonts-japanese-mincho | fonts-ipafont-mincho\n",
      "  fonts-japanese-gothic | fonts-ipafont-gothic fonts-arphic-ukai\n",
      "  fonts-arphic-uming fonts-nanum\n",
      "The following NEW packages will be installed:\n",
      "  fonts-droid-fallback fonts-noto-mono ghostscript gsfonts imagemagick\n",
      "  imagemagick-6-common imagemagick-6.q16 libcupsfilters1 libcupsimage2\n",
      "  libdjvulibre-text libdjvulibre21 libgs9 libgs9-common libijs-0.35\n",
      "  libjbig2dec0 liblqr-1-0 libmagickcore-6.q16-3 libmagickcore-6.q16-3-extra\n",
      "  libmagickwand-6.q16-3 libnetpbm10 libwmf0.2-7 netpbm poppler-data\n",
      "0 upgraded, 23 newly installed, 0 to remove and 11 not upgraded.\n",
      "Need to get 18.4 MB of archives.\n",
      "After this operation, 66.3 MB of additional disk space will be used.\n",
      "Get:1 http://archive.ubuntu.com/ubuntu bionic/main amd64 fonts-droid-fallback all 1:6.0.1r16-1.1 [1,805 kB]\n",
      "Get:2 http://archive.ubuntu.com/ubuntu bionic/main amd64 liblqr-1-0 amd64 0.4.2-2.1 [27.7 kB]\n",
      "Get:3 http://archive.ubuntu.com/ubuntu bionic-updates/main amd64 imagemagick-6-common all 8:6.9.7.4+dfsg-16ubuntu6.14 [60.5 kB]\n",
      "Get:4 http://archive.ubuntu.com/ubuntu bionic-updates/main amd64 libmagickcore-6.q16-3 amd64 8:6.9.7.4+dfsg-16ubuntu6.14 [1,622 kB]\n",
      "Get:5 http://archive.ubuntu.com/ubuntu bionic-updates/main amd64 libmagickwand-6.q16-3 amd64 8:6.9.7.4+dfsg-16ubuntu6.14 [294 kB]\n",
      "Get:6 http://archive.ubuntu.com/ubuntu bionic/main amd64 poppler-data all 0.4.8-2 [1,479 kB]\n",
      "Get:7 http://archive.ubuntu.com/ubuntu bionic/main amd64 fonts-noto-mono all 20171026-2 [75.5 kB]\n",
      "Get:8 http://archive.ubuntu.com/ubuntu bionic-updates/main amd64 libcupsimage2 amd64 2.2.7-1ubuntu2.9 [18.6 kB]\n",
      "Get:9 http://archive.ubuntu.com/ubuntu bionic/main amd64 libijs-0.35 amd64 0.35-13 [15.5 kB]\n",
      "Get:10 http://archive.ubuntu.com/ubuntu bionic/main amd64 libjbig2dec0 amd64 0.13-6 [55.9 kB]\n",
      "Get:11 http://archive.ubuntu.com/ubuntu bionic-updates/main amd64 libgs9-common all 9.26~dfsg+0-0ubuntu0.18.04.17 [5,092 kB]\n",
      "Get:12 http://archive.ubuntu.com/ubuntu bionic-updates/main amd64 libgs9 amd64 9.26~dfsg+0-0ubuntu0.18.04.17 [2,267 kB]\n",
      "Get:13 http://archive.ubuntu.com/ubuntu bionic-updates/main amd64 ghostscript amd64 9.26~dfsg+0-0ubuntu0.18.04.17 [51.3 kB]\n",
      "Get:14 http://archive.ubuntu.com/ubuntu bionic/main amd64 gsfonts all 1:8.11+urwcyr1.0.7~pre44-4.4 [3,120 kB]\n",
      "Get:15 http://archive.ubuntu.com/ubuntu bionic-updates/main amd64 imagemagick-6.q16 amd64 8:6.9.7.4+dfsg-16ubuntu6.14 [423 kB]\n",
      "Get:16 http://archive.ubuntu.com/ubuntu bionic-updates/main amd64 imagemagick amd64 8:6.9.7.4+dfsg-16ubuntu6.14 [14.2 kB]\n",
      "Get:17 http://archive.ubuntu.com/ubuntu bionic-updates/main amd64 libcupsfilters1 amd64 1.20.2-0ubuntu3.1 [108 kB]\n",
      "Get:18 http://archive.ubuntu.com/ubuntu bionic-updates/main amd64 libdjvulibre-text all 3.5.27.1-8ubuntu0.4 [49.4 kB]\n",
      "Get:19 http://archive.ubuntu.com/ubuntu bionic-updates/main amd64 libdjvulibre21 amd64 3.5.27.1-8ubuntu0.4 [561 kB]\n",
      "Get:20 http://archive.ubuntu.com/ubuntu bionic/main amd64 libwmf0.2-7 amd64 0.2.8.4-12 [150 kB]\n",
      "Get:21 http://archive.ubuntu.com/ubuntu bionic-updates/main amd64 libmagickcore-6.q16-3-extra amd64 8:6.9.7.4+dfsg-16ubuntu6.14 [62.2 kB]\n",
      "Get:22 http://archive.ubuntu.com/ubuntu bionic/main amd64 libnetpbm10 amd64 2:10.0-15.3build1 [58.0 kB]\n",
      "Get:23 http://archive.ubuntu.com/ubuntu bionic/main amd64 netpbm amd64 2:10.0-15.3build1 [1,017 kB]\n",
      "Fetched 18.4 MB in 1s (14.7 MB/s)\n",
      "Selecting previously unselected package fonts-droid-fallback.\n",
      "(Reading database ... 123991 files and directories currently installed.)\n",
      "Preparing to unpack .../00-fonts-droid-fallback_1%3a6.0.1r16-1.1_all.deb ...\n",
      "Unpacking fonts-droid-fallback (1:6.0.1r16-1.1) ...\n",
      "Selecting previously unselected package liblqr-1-0:amd64.\n",
      "Preparing to unpack .../01-liblqr-1-0_0.4.2-2.1_amd64.deb ...\n",
      "Unpacking liblqr-1-0:amd64 (0.4.2-2.1) ...\n",
      "Selecting previously unselected package imagemagick-6-common.\n",
      "Preparing to unpack .../02-imagemagick-6-common_8%3a6.9.7.4+dfsg-16ubuntu6.14_all.deb ...\n",
      "Unpacking imagemagick-6-common (8:6.9.7.4+dfsg-16ubuntu6.14) ...\n",
      "Selecting previously unselected package libmagickcore-6.q16-3:amd64.\n",
      "Preparing to unpack .../03-libmagickcore-6.q16-3_8%3a6.9.7.4+dfsg-16ubuntu6.14_amd64.deb ...\n",
      "Unpacking libmagickcore-6.q16-3:amd64 (8:6.9.7.4+dfsg-16ubuntu6.14) ...\n",
      "Selecting previously unselected package libmagickwand-6.q16-3:amd64.\n",
      "Preparing to unpack .../04-libmagickwand-6.q16-3_8%3a6.9.7.4+dfsg-16ubuntu6.14_amd64.deb ...\n",
      "Unpacking libmagickwand-6.q16-3:amd64 (8:6.9.7.4+dfsg-16ubuntu6.14) ...\n",
      "Selecting previously unselected package poppler-data.\n",
      "Preparing to unpack .../05-poppler-data_0.4.8-2_all.deb ...\n",
      "Unpacking poppler-data (0.4.8-2) ...\n",
      "Selecting previously unselected package fonts-noto-mono.\n",
      "Preparing to unpack .../06-fonts-noto-mono_20171026-2_all.deb ...\n",
      "Unpacking fonts-noto-mono (20171026-2) ...\n",
      "Selecting previously unselected package libcupsimage2:amd64.\n",
      "Preparing to unpack .../07-libcupsimage2_2.2.7-1ubuntu2.9_amd64.deb ...\n",
      "Unpacking libcupsimage2:amd64 (2.2.7-1ubuntu2.9) ...\n",
      "Selecting previously unselected package libijs-0.35:amd64.\n",
      "Preparing to unpack .../08-libijs-0.35_0.35-13_amd64.deb ...\n",
      "Unpacking libijs-0.35:amd64 (0.35-13) ...\n",
      "Selecting previously unselected package libjbig2dec0:amd64.\n",
      "Preparing to unpack .../09-libjbig2dec0_0.13-6_amd64.deb ...\n",
      "Unpacking libjbig2dec0:amd64 (0.13-6) ...\n",
      "Selecting previously unselected package libgs9-common.\n",
      "Preparing to unpack .../10-libgs9-common_9.26~dfsg+0-0ubuntu0.18.04.17_all.deb ...\n",
      "Unpacking libgs9-common (9.26~dfsg+0-0ubuntu0.18.04.17) ...\n",
      "Selecting previously unselected package libgs9:amd64.\n",
      "Preparing to unpack .../11-libgs9_9.26~dfsg+0-0ubuntu0.18.04.17_amd64.deb ...\n",
      "Unpacking libgs9:amd64 (9.26~dfsg+0-0ubuntu0.18.04.17) ...\n",
      "Selecting previously unselected package ghostscript.\n",
      "Preparing to unpack .../12-ghostscript_9.26~dfsg+0-0ubuntu0.18.04.17_amd64.deb ...\n",
      "Unpacking ghostscript (9.26~dfsg+0-0ubuntu0.18.04.17) ...\n",
      "Selecting previously unselected package gsfonts.\n",
      "Preparing to unpack .../13-gsfonts_1%3a8.11+urwcyr1.0.7~pre44-4.4_all.deb ...\n",
      "Unpacking gsfonts (1:8.11+urwcyr1.0.7~pre44-4.4) ...\n",
      "Selecting previously unselected package imagemagick-6.q16.\n",
      "Preparing to unpack .../14-imagemagick-6.q16_8%3a6.9.7.4+dfsg-16ubuntu6.14_amd64.deb ...\n",
      "Unpacking imagemagick-6.q16 (8:6.9.7.4+dfsg-16ubuntu6.14) ...\n",
      "Selecting previously unselected package imagemagick.\n",
      "Preparing to unpack .../15-imagemagick_8%3a6.9.7.4+dfsg-16ubuntu6.14_amd64.deb ...\n",
      "Unpacking imagemagick (8:6.9.7.4+dfsg-16ubuntu6.14) ...\n",
      "Selecting previously unselected package libcupsfilters1:amd64.\n",
      "Preparing to unpack .../16-libcupsfilters1_1.20.2-0ubuntu3.1_amd64.deb ...\n",
      "Unpacking libcupsfilters1:amd64 (1.20.2-0ubuntu3.1) ...\n",
      "Selecting previously unselected package libdjvulibre-text.\n",
      "Preparing to unpack .../17-libdjvulibre-text_3.5.27.1-8ubuntu0.4_all.deb ...\n",
      "Unpacking libdjvulibre-text (3.5.27.1-8ubuntu0.4) ...\n",
      "Selecting previously unselected package libdjvulibre21:amd64.\n",
      "Preparing to unpack .../18-libdjvulibre21_3.5.27.1-8ubuntu0.4_amd64.deb ...\n",
      "Unpacking libdjvulibre21:amd64 (3.5.27.1-8ubuntu0.4) ...\n",
      "Selecting previously unselected package libwmf0.2-7:amd64.\n",
      "Preparing to unpack .../19-libwmf0.2-7_0.2.8.4-12_amd64.deb ...\n",
      "Unpacking libwmf0.2-7:amd64 (0.2.8.4-12) ...\n",
      "Selecting previously unselected package libmagickcore-6.q16-3-extra:amd64.\n",
      "Preparing to unpack .../20-libmagickcore-6.q16-3-extra_8%3a6.9.7.4+dfsg-16ubuntu6.14_amd64.deb ...\n",
      "Unpacking libmagickcore-6.q16-3-extra:amd64 (8:6.9.7.4+dfsg-16ubuntu6.14) ...\n",
      "Selecting previously unselected package libnetpbm10.\n",
      "Preparing to unpack .../21-libnetpbm10_2%3a10.0-15.3build1_amd64.deb ...\n",
      "Unpacking libnetpbm10 (2:10.0-15.3build1) ...\n",
      "Selecting previously unselected package netpbm.\n",
      "Preparing to unpack .../22-netpbm_2%3a10.0-15.3build1_amd64.deb ...\n",
      "Unpacking netpbm (2:10.0-15.3build1) ...\n",
      "Setting up libgs9-common (9.26~dfsg+0-0ubuntu0.18.04.17) ...\n",
      "Setting up imagemagick-6-common (8:6.9.7.4+dfsg-16ubuntu6.14) ...\n",
      "Setting up fonts-droid-fallback (1:6.0.1r16-1.1) ...\n",
      "Setting up gsfonts (1:8.11+urwcyr1.0.7~pre44-4.4) ...\n",
      "Setting up poppler-data (0.4.8-2) ...\n",
      "Setting up libdjvulibre-text (3.5.27.1-8ubuntu0.4) ...\n",
      "Setting up libnetpbm10 (2:10.0-15.3build1) ...\n",
      "Setting up fonts-noto-mono (20171026-2) ...\n",
      "Setting up libcupsfilters1:amd64 (1.20.2-0ubuntu3.1) ...\n",
      "Setting up libcupsimage2:amd64 (2.2.7-1ubuntu2.9) ...\n",
      "Setting up liblqr-1-0:amd64 (0.4.2-2.1) ...\n",
      "Setting up libjbig2dec0:amd64 (0.13-6) ...\n",
      "Setting up libijs-0.35:amd64 (0.35-13) ...\n",
      "Setting up netpbm (2:10.0-15.3build1) ...\n",
      "Setting up libgs9:amd64 (9.26~dfsg+0-0ubuntu0.18.04.17) ...\n",
      "Setting up libwmf0.2-7:amd64 (0.2.8.4-12) ...\n",
      "Setting up libmagickcore-6.q16-3:amd64 (8:6.9.7.4+dfsg-16ubuntu6.14) ...\n",
      "Setting up libdjvulibre21:amd64 (3.5.27.1-8ubuntu0.4) ...\n",
      "Setting up ghostscript (9.26~dfsg+0-0ubuntu0.18.04.17) ...\n",
      "Setting up libmagickwand-6.q16-3:amd64 (8:6.9.7.4+dfsg-16ubuntu6.14) ...\n",
      "Setting up imagemagick-6.q16 (8:6.9.7.4+dfsg-16ubuntu6.14) ...\n",
      "update-alternatives: using /usr/bin/compare-im6.q16 to provide /usr/bin/compare (compare) in auto mode\n",
      "update-alternatives: using /usr/bin/compare-im6.q16 to provide /usr/bin/compare-im6 (compare-im6) in auto mode\n",
      "update-alternatives: using /usr/bin/animate-im6.q16 to provide /usr/bin/animate (animate) in auto mode\n",
      "update-alternatives: using /usr/bin/animate-im6.q16 to provide /usr/bin/animate-im6 (animate-im6) in auto mode\n",
      "update-alternatives: using /usr/bin/convert-im6.q16 to provide /usr/bin/convert (convert) in auto mode\n",
      "update-alternatives: using /usr/bin/convert-im6.q16 to provide /usr/bin/convert-im6 (convert-im6) in auto mode\n",
      "update-alternatives: using /usr/bin/composite-im6.q16 to provide /usr/bin/composite (composite) in auto mode\n",
      "update-alternatives: using /usr/bin/composite-im6.q16 to provide /usr/bin/composite-im6 (composite-im6) in auto mode\n",
      "update-alternatives: using /usr/bin/conjure-im6.q16 to provide /usr/bin/conjure (conjure) in auto mode\n",
      "update-alternatives: using /usr/bin/conjure-im6.q16 to provide /usr/bin/conjure-im6 (conjure-im6) in auto mode\n",
      "update-alternatives: using /usr/bin/import-im6.q16 to provide /usr/bin/import (import) in auto mode\n",
      "update-alternatives: using /usr/bin/import-im6.q16 to provide /usr/bin/import-im6 (import-im6) in auto mode\n",
      "update-alternatives: using /usr/bin/identify-im6.q16 to provide /usr/bin/identify (identify) in auto mode\n",
      "update-alternatives: using /usr/bin/identify-im6.q16 to provide /usr/bin/identify-im6 (identify-im6) in auto mode\n",
      "update-alternatives: using /usr/bin/stream-im6.q16 to provide /usr/bin/stream (stream) in auto mode\n",
      "update-alternatives: using /usr/bin/stream-im6.q16 to provide /usr/bin/stream-im6 (stream-im6) in auto mode\n",
      "update-alternatives: using /usr/bin/display-im6.q16 to provide /usr/bin/display (display) in auto mode\n",
      "update-alternatives: using /usr/bin/display-im6.q16 to provide /usr/bin/display-im6 (display-im6) in auto mode\n",
      "update-alternatives: using /usr/bin/montage-im6.q16 to provide /usr/bin/montage (montage) in auto mode\n",
      "update-alternatives: using /usr/bin/montage-im6.q16 to provide /usr/bin/montage-im6 (montage-im6) in auto mode\n",
      "update-alternatives: using /usr/bin/mogrify-im6.q16 to provide /usr/bin/mogrify (mogrify) in auto mode\n",
      "update-alternatives: using /usr/bin/mogrify-im6.q16 to provide /usr/bin/mogrify-im6 (mogrify-im6) in auto mode\n",
      "Setting up libmagickcore-6.q16-3-extra:amd64 (8:6.9.7.4+dfsg-16ubuntu6.14) ...\n",
      "Setting up imagemagick (8:6.9.7.4+dfsg-16ubuntu6.14) ...\n",
      "Processing triggers for hicolor-icon-theme (0.17-2) ...\n",
      "Processing triggers for fontconfig (2.12.6-0ubuntu2) ...\n",
      "Processing triggers for mime-support (3.60ubuntu1) ...\n",
      "Processing triggers for libc-bin (2.27-3ubuntu1.6) ...\n",
      "Processing triggers for man-db (2.8.3-2ubuntu0.1) ...\n"
     ]
    }
   ],
   "source": [
    "!apt install imagemagick"
   ]
  },
  {
   "cell_type": "code",
   "execution_count": 11,
   "metadata": {
    "id": "PYI10dkk5atO"
   },
   "outputs": [],
   "source": [
    "!convert gif_pics/* bif_map.gif"
   ]
  },
  {
   "cell_type": "code",
   "execution_count": 12,
   "metadata": {
    "id": "yuns3P5gt5hM"
   },
   "outputs": [],
   "source": [
    "%%bash\n",
    "\n",
    "for i in {1..15}\n",
    "do\n",
    " { time mpirun --allow-run-as-root -n $i python mpi_bifurcation.py; } 2>&1 |  cat >> results.txt\n",
    "done"
   ]
  },
  {
   "cell_type": "code",
   "execution_count": 13,
   "metadata": {
    "id": "64Ys_aQhVxA9"
   },
   "outputs": [],
   "source": [
    "import re\n",
    "\n",
    "file = open('results.txt', 'r')\n",
    "lines = file.readlines()\n",
    "\n",
    "time_of_exe = []\n",
    "\n",
    "for line in lines:\n",
    "  line = line.strip()\n",
    "  if 'sys' in line:\n",
    "    time_exe = re.findall(r'\\d+', line)\n",
    "    time_exe = '.'.join(time_exe[1:])\n",
    "    time_of_exe.append(float(time_exe))\n",
    "\n",
    "speedup = []\n",
    "for i, time in enumerate(time_of_exe):\n",
    "  speedup.append(1 / (time / (i+1))) "
   ]
  },
  {
   "cell_type": "code",
   "execution_count": 14,
   "metadata": {
    "colab": {
     "base_uri": "https://localhost:8080/",
     "height": 410
    },
    "id": "OxhCHeTCuFu7",
    "outputId": "78abbcb8-7505-4d60-ba58-09d000ca3765"
   },
   "outputs": [
    {
     "data": {
      "image/png": "[encoded data removed]",
      "text/plain": [
       "<Figure size 576x432 with 1 Axes>"
      ]
     },
     "metadata": {
      "needs_background": "light"
     },
     "output_type": "display_data"
    }
   ],
   "source": [
    "import matplotlib.pyplot as plt\n",
    "import numpy as np\n",
    "\n",
    "_, ax = plt.subplots(figsize=(8, 6))\n",
    "\n",
    "ax.plot(np.arange(1, 16), speedup)\n",
    "\n",
    "ax.set_title('Speedup vs $n$ of processes')\n",
    "ax.set_ylabel('$t$, seconds')\n",
    "ax.set_xlabel('$n$, num of processes')\n",
    "\n",
    "plt.show()"
   ]
  },
  {
   "cell_type": "markdown",
   "metadata": {
    "id": "1CTRWPXeC1VM"
   },
   "source": [
    "Strangely the speedup is not linear especially for odd number of processes I believe its due to memory allocation "
   ]
  },
  {
   "cell_type": "code",
   "execution_count": 15,
   "metadata": {
    "id": "blOsR08buMTk"
   },
   "outputs": [],
   "source": [
    "from IPython.core.display import Image"
   ]
  },
  {
   "cell_type": "code",
   "execution_count": 16,
   "metadata": {
    "colab": {
     "base_uri": "https://localhost:8080/",
     "height": 45,
     "resources": {
      "http://localhost:8080/bif_map.gif": {
       "data": "CjwhRE9DVFlQRSBodG1sPgo8aHRtbCBsYW5nPWVuPgogIDxtZXRhIGNoYXJzZXQ9dXRmLTg+CiAgPG1ldGEgbmFtZT12aWV3cG9ydCBjb250ZW50PSJpbml0aWFsLXNjYWxlPTEsIG1pbmltdW0tc2NhbGU9MSwgd2lkdGg9ZGV2aWNlLXdpZHRoIj4KICA8dGl0bGU+RXJyb3IgNDA0IChOb3QgRm91bmQpISExPC90aXRsZT4KICA8c3R5bGU+CiAgICAqe21hcmdpbjowO3BhZGRpbmc6MH1odG1sLGNvZGV7Zm9udDoxNXB4LzIycHggYXJpYWwsc2Fucy1zZXJpZn1odG1se2JhY2tncm91bmQ6I2ZmZjtjb2xvcjojMjIyO3BhZGRpbmc6MTVweH1ib2R5e21hcmdpbjo3JSBhdXRvIDA7bWF4LXdpZHRoOjM5MHB4O21pbi1oZWlnaHQ6MTgwcHg7cGFkZGluZzozMHB4IDAgMTVweH0qID4gYm9keXtiYWNrZ3JvdW5kOnVybCgvL3d3dy5nb29nbGUuY29tL2ltYWdlcy9lcnJvcnMvcm9ib3QucG5nKSAxMDAlIDVweCBuby1yZXBlYXQ7cGFkZGluZy1yaWdodDoyMDVweH1we21hcmdpbjoxMXB4IDAgMjJweDtvdmVyZmxvdzpoaWRkZW59aW5ze2NvbG9yOiM3Nzc7dGV4dC1kZWNvcmF0aW9uOm5vbmV9YSBpbWd7Ym9yZGVyOjB9QG1lZGlhIHNjcmVlbiBhbmQgKG1heC13aWR0aDo3NzJweCl7Ym9keXtiYWNrZ3JvdW5kOm5vbmU7bWFyZ2luLXRvcDowO21heC13aWR0aDpub25lO3BhZGRpbmctcmlnaHQ6MH19I2xvZ297YmFja2dyb3VuZDp1cmwoLy93d3cuZ29vZ2xlLmNvbS9pbWFnZXMvbG9nb3MvZXJyb3JwYWdlL2Vycm9yX2xvZ28tMTUweDU0LnBuZykgbm8tcmVwZWF0O21hcmdpbi1sZWZ0Oi01cHh9QG1lZGlhIG9ubHkgc2NyZWVuIGFuZCAobWluLXJlc29sdXRpb246MTkyZHBpKXsjbG9nb3tiYWNrZ3JvdW5kOnVybCgvL3d3dy5nb29nbGUuY29tL2ltYWdlcy9sb2dvcy9lcnJvcnBhZ2UvZXJyb3JfbG9nby0xNTB4NTQtMngucG5nKSBuby1yZXBlYXQgMCUgMCUvMTAwJSAxMDAlOy1tb3otYm9yZGVyLWltYWdlOnVybCgvL3d3dy5nb29nbGUuY29tL2ltYWdlcy9sb2dvcy9lcnJvcnBhZ2UvZXJyb3JfbG9nby0xNTB4NTQtMngucG5nKSAwfX1AbWVkaWEgb25seSBzY3JlZW4gYW5kICgtd2Via2l0LW1pbi1kZXZpY2UtcGl4ZWwtcmF0aW86Mil7I2xvZ297YmFja2dyb3VuZDp1cmwoLy93d3cuZ29vZ2xlLmNvbS9pbWFnZXMvbG9nb3MvZXJyb3JwYWdlL2Vycm9yX2xvZ28tMTUweDU0LTJ4LnBuZykgbm8tcmVwZWF0Oy13ZWJraXQtYmFja2dyb3VuZC1zaXplOjEwMCUgMTAwJX19I2xvZ297ZGlzcGxheTppbmxpbmUtYmxvY2s7aGVpZ2h0OjU0cHg7d2lkdGg6MTUwcHh9CiAgPC9zdHlsZT4KICA8YSBocmVmPS8vd3d3Lmdvb2dsZS5jb20vPjxzcGFuIGlkPWxvZ28gYXJpYS1sYWJlbD1Hb29nbGU+PC9zcGFuPjwvYT4KICA8cD48Yj40MDQuPC9iPiA8aW5zPlRoYXTigJlzIGFuIGVycm9yLjwvaW5zPgogIDxwPiAgPGlucz5UaGF04oCZcyBhbGwgd2Uga25vdy48L2lucz4K",
       "headers": [
        [
         "content-length",
         "1449"
        ],
        [
         "content-type",
         "text/html; charset=utf-8"
        ]
       ],
       "ok": false,
       "status": 404,
       "status_text": "Not Found"
      }
     }
    },
    "id": "JgiPGQk2uRng",
    "outputId": "bbb4fdb6-bc70-43d4-cad6-773287d1600f"
   },
   "outputs": [
    {
     "data": {
      "text/html": [
       "<img src=\"bif_map.gif\"/>"
      ],
      "text/plain": [
       "<IPython.core.display.Image object>"
      ]
     },
     "execution_count": 16,
     "metadata": {},
     "output_type": "execute_result"
    }
   ],
   "source": [
    "Image(url='bif_map.gif')"
   ]
  },
  {
   "cell_type": "code",
   "execution_count": null,
   "metadata": {
    "id": "VMdywNEPa8-D"
   },
   "outputs": [],
   "source": []
  }
 ],
 "metadata": {
  "colab": {
   "provenance": []
  },
  "kernelspec": {
   "display_name": "Python 3 (ipykernel)",
   "language": "python",
   "name": "python3"
  },
  "language_info": {
   "codemirror_mode": {
    "name": "ipython",
    "version": 3
   },
   "file_extension": ".py",
   "mimetype": "text/x-python",
   "name": "python",
   "nbconvert_exporter": "python",
   "pygments_lexer": "ipython3",
   "version": "3.8.10"
  }
 },
 "nbformat": 4,
 "nbformat_minor": 1
}
